{
 "cells": [
  {
   "cell_type": "code",
   "execution_count": 1,
   "metadata": {},
   "outputs": [],
   "source": [
    "import pandas as pd\n",
    "import matplotlib.pyplot as plt\n",
    "import numpy as np"
   ]
  },
  {
   "cell_type": "code",
   "execution_count": 2,
   "metadata": {},
   "outputs": [],
   "source": [
    "pd.set_option('display.max_columns', None)"
   ]
  },
  {
   "cell_type": "code",
   "execution_count": 3,
   "metadata": {},
   "outputs": [],
   "source": [
    "company = pd.read_parquet('/home/group3/group3/Finalized/data/company_overview_cleaned.parquet')\n",
    "glassd_classification = pd.read_parquet('/home/group3/group3/Finalized/data/glassd_classification_cleaned.parquet')\n",
    "text = pd.read_parquet('../../../glassdoor/glassd_review_internal_data_2024-03-19.parquet')\n",
    "# jobtitle_mapping = pd.read_parquet('../../../jobtitle_mapping_2024-03-19.parquet')\n",
    "# location_mapping = pd.read_parquet('../../../location_mapping_2024-03-19.parquet')\n",
    "USstock_daily = pd.read_parquet('/quant_data/schedule_store/data/daily_US_Stock/crsp_dsf_20240620.pq')"
   ]
  },
  {
   "cell_type": "code",
   "execution_count": 3,
   "metadata": {},
   "outputs": [],
   "source": [
    "company2 = pd.read_parquet('/home/group3/glassdoor/company_overview_2024-03-19.parquet')\n",
    "glassd2 = pd.read_parquet('/home/group3/glassdoor/glassd_classification_2024-03-19.parquet')"
   ]
  },
  {
   "cell_type": "code",
   "execution_count": 7,
   "metadata": {},
   "outputs": [
    {
     "data": {
      "text/plain": [
       "4736"
      ]
     },
     "execution_count": 7,
     "metadata": {},
     "output_type": "execute_result"
    }
   ],
   "source": [
    "glassd2['glassdoorId'].nunique()"
   ]
  },
  {
   "cell_type": "code",
   "execution_count": 6,
   "metadata": {},
   "outputs": [
    {
     "data": {
      "text/plain": [
       "4325"
      ]
     },
     "execution_count": 6,
     "metadata": {},
     "output_type": "execute_result"
    }
   ],
   "source": [
    "glassd_classification['glassdoorId'].nunique()"
   ]
  },
  {
   "cell_type": "markdown",
   "metadata": {},
   "source": [
    "## Stock filtering (by company)"
   ]
  },
  {
   "cell_type": "markdown",
   "metadata": {},
   "source": [
    "### 1. Trading between 2020-2023"
   ]
  },
  {
   "cell_type": "code",
   "execution_count": 4,
   "metadata": {},
   "outputs": [],
   "source": [
    "start_trading = USstock_daily[['ticker','date']].groupby('ticker').min()"
   ]
  },
  {
   "cell_type": "code",
   "execution_count": 5,
   "metadata": {},
   "outputs": [],
   "source": [
    "end_trading = USstock_daily[['ticker','date']].groupby('ticker').max()"
   ]
  },
  {
   "cell_type": "code",
   "execution_count": 6,
   "metadata": {},
   "outputs": [],
   "source": [
    "trading_2023_req = start_trading[(start_trading['date'] < '20200101') & (end_trading['date'] > '20221130')]"
   ]
  },
  {
   "cell_type": "code",
   "execution_count": 7,
   "metadata": {},
   "outputs": [
    {
     "data": {
      "text/html": [
       "<div>\n",
       "<style scoped>\n",
       "    .dataframe tbody tr th:only-of-type {\n",
       "        vertical-align: middle;\n",
       "    }\n",
       "\n",
       "    .dataframe tbody tr th {\n",
       "        vertical-align: top;\n",
       "    }\n",
       "\n",
       "    .dataframe thead th {\n",
       "        text-align: right;\n",
       "    }\n",
       "</style>\n",
       "<table border=\"1\" class=\"dataframe\">\n",
       "  <thead>\n",
       "    <tr style=\"text-align: right;\">\n",
       "      <th></th>\n",
       "      <th>date</th>\n",
       "    </tr>\n",
       "    <tr>\n",
       "      <th>ticker</th>\n",
       "      <th></th>\n",
       "    </tr>\n",
       "  </thead>\n",
       "  <tbody>\n",
       "    <tr>\n",
       "      <th>A</th>\n",
       "      <td>20000103</td>\n",
       "    </tr>\n",
       "    <tr>\n",
       "      <th>AA</th>\n",
       "      <td>20000103</td>\n",
       "    </tr>\n",
       "    <tr>\n",
       "      <th>AAL</th>\n",
       "      <td>20131209</td>\n",
       "    </tr>\n",
       "    <tr>\n",
       "      <th>AAMC</th>\n",
       "      <td>20130912</td>\n",
       "    </tr>\n",
       "    <tr>\n",
       "      <th>AAME</th>\n",
       "      <td>20000103</td>\n",
       "    </tr>\n",
       "    <tr>\n",
       "      <th>...</th>\n",
       "      <td>...</td>\n",
       "    </tr>\n",
       "    <tr>\n",
       "      <th>ZTS</th>\n",
       "      <td>20130201</td>\n",
       "    </tr>\n",
       "    <tr>\n",
       "      <th>ZUMZ</th>\n",
       "      <td>20050506</td>\n",
       "    </tr>\n",
       "    <tr>\n",
       "      <th>ZUO</th>\n",
       "      <td>20180412</td>\n",
       "    </tr>\n",
       "    <tr>\n",
       "      <th>ZYNE</th>\n",
       "      <td>20150805</td>\n",
       "    </tr>\n",
       "    <tr>\n",
       "      <th>ZYXI</th>\n",
       "      <td>20190212</td>\n",
       "    </tr>\n",
       "  </tbody>\n",
       "</table>\n",
       "<p>3129 rows × 1 columns</p>\n",
       "</div>"
      ],
      "text/plain": [
       "            date\n",
       "ticker          \n",
       "A       20000103\n",
       "AA      20000103\n",
       "AAL     20131209\n",
       "AAMC    20130912\n",
       "AAME    20000103\n",
       "...          ...\n",
       "ZTS     20130201\n",
       "ZUMZ    20050506\n",
       "ZUO     20180412\n",
       "ZYNE    20150805\n",
       "ZYXI    20190212\n",
       "\n",
       "[3129 rows x 1 columns]"
      ]
     },
     "execution_count": 7,
     "metadata": {},
     "output_type": "execute_result"
    }
   ],
   "source": [
    "trading_2023_req"
   ]
  },
  {
   "cell_type": "markdown",
   "metadata": {},
   "source": [
    "### 2. at least 5 review"
   ]
  },
  {
   "cell_type": "code",
   "execution_count": 7,
   "metadata": {},
   "outputs": [],
   "source": [
    "glassd_company_merge = pd.merge(glassd_classification, company, on='glassdoorId')"
   ]
  },
  {
   "cell_type": "code",
   "execution_count": 9,
   "metadata": {},
   "outputs": [],
   "source": [
    "review_count_per_company = glassd_company_merge[['ticker','reviewId']].groupby('ticker').count()"
   ]
  },
  {
   "cell_type": "code",
   "execution_count": 57,
   "metadata": {},
   "outputs": [],
   "source": [
    "filter_g5 = review_count_per_company[review_count_per_company['reviewId'] > 5]"
   ]
  },
  {
   "cell_type": "code",
   "execution_count": 106,
   "metadata": {},
   "outputs": [],
   "source": [
    "filter_g50 = review_count_per_company[review_count_per_company['reviewId'] > 50]"
   ]
  },
  {
   "cell_type": "markdown",
   "metadata": {},
   "source": [
    "### 3. first review happens before 2013"
   ]
  },
  {
   "cell_type": "code",
   "execution_count": 59,
   "metadata": {},
   "outputs": [],
   "source": [
    "earliest_review = glassd_company_merge[['ticker','reviewDateTime']].groupby('ticker').min()"
   ]
  },
  {
   "cell_type": "code",
   "execution_count": 60,
   "metadata": {},
   "outputs": [],
   "source": [
    "filter_earliest_review = earliest_review[earliest_review['reviewDateTime'] < '2013-01-01']"
   ]
  },
  {
   "cell_type": "code",
   "execution_count": 61,
   "metadata": {},
   "outputs": [
    {
     "data": {
      "text/html": [
       "<div>\n",
       "<style scoped>\n",
       "    .dataframe tbody tr th:only-of-type {\n",
       "        vertical-align: middle;\n",
       "    }\n",
       "\n",
       "    .dataframe tbody tr th {\n",
       "        vertical-align: top;\n",
       "    }\n",
       "\n",
       "    .dataframe thead th {\n",
       "        text-align: right;\n",
       "    }\n",
       "</style>\n",
       "<table border=\"1\" class=\"dataframe\">\n",
       "  <thead>\n",
       "    <tr style=\"text-align: right;\">\n",
       "      <th></th>\n",
       "      <th>reviewDateTime</th>\n",
       "    </tr>\n",
       "    <tr>\n",
       "      <th>ticker</th>\n",
       "      <th></th>\n",
       "    </tr>\n",
       "  </thead>\n",
       "  <tbody>\n",
       "    <tr>\n",
       "      <th>1</th>\n",
       "      <td>2010-10-25 19:35:02</td>\n",
       "    </tr>\n",
       "    <tr>\n",
       "      <th>A</th>\n",
       "      <td>2008-05-01 08:30:51</td>\n",
       "    </tr>\n",
       "    <tr>\n",
       "      <th>AA</th>\n",
       "      <td>2008-06-12 18:37:55</td>\n",
       "    </tr>\n",
       "    <tr>\n",
       "      <th>AAL</th>\n",
       "      <td>2008-06-11 06:23:31</td>\n",
       "    </tr>\n",
       "    <tr>\n",
       "      <th>AAOI</th>\n",
       "      <td>2010-06-30 10:29:20</td>\n",
       "    </tr>\n",
       "    <tr>\n",
       "      <th>...</th>\n",
       "      <td>...</td>\n",
       "    </tr>\n",
       "    <tr>\n",
       "      <th>ZUMZ</th>\n",
       "      <td>2008-06-16 09:03:52</td>\n",
       "    </tr>\n",
       "    <tr>\n",
       "      <th>ZUO</th>\n",
       "      <td>2011-01-25 14:16:02</td>\n",
       "    </tr>\n",
       "    <tr>\n",
       "      <th>ZVO</th>\n",
       "      <td>2008-09-23 22:16:20</td>\n",
       "    </tr>\n",
       "    <tr>\n",
       "      <th>ZWS</th>\n",
       "      <td>2008-10-05 21:46:47</td>\n",
       "    </tr>\n",
       "    <tr>\n",
       "      <th>ZYXI</th>\n",
       "      <td>2011-12-25 15:02:46</td>\n",
       "    </tr>\n",
       "  </tbody>\n",
       "</table>\n",
       "<p>2401 rows × 1 columns</p>\n",
       "</div>"
      ],
      "text/plain": [
       "             reviewDateTime\n",
       "ticker                     \n",
       "1       2010-10-25 19:35:02\n",
       "A       2008-05-01 08:30:51\n",
       "AA      2008-06-12 18:37:55\n",
       "AAL     2008-06-11 06:23:31\n",
       "AAOI    2010-06-30 10:29:20\n",
       "...                     ...\n",
       "ZUMZ    2008-06-16 09:03:52\n",
       "ZUO     2011-01-25 14:16:02\n",
       "ZVO     2008-09-23 22:16:20\n",
       "ZWS     2008-10-05 21:46:47\n",
       "ZYXI    2011-12-25 15:02:46\n",
       "\n",
       "[2401 rows x 1 columns]"
      ]
     },
     "execution_count": 61,
     "metadata": {},
     "output_type": "execute_result"
    }
   ],
   "source": [
    "filter_earliest_review"
   ]
  },
  {
   "cell_type": "markdown",
   "metadata": {},
   "source": [
    "### 4. filter market cap"
   ]
  },
  {
   "cell_type": "code",
   "execution_count": 13,
   "metadata": {},
   "outputs": [],
   "source": [
    "mcap_per_comp = USstock_daily[USstock_daily['date']>'20130101'][['mcap', 'ticker']].groupby('ticker').mean()"
   ]
  },
  {
   "cell_type": "code",
   "execution_count": 18,
   "metadata": {},
   "outputs": [],
   "source": [
    "filters['mcap>e9'] = list(mcap_per_comp[mcap_per_comp['mcap']>1e9].index.values)"
   ]
  },
  {
   "cell_type": "code",
   "execution_count": 19,
   "metadata": {},
   "outputs": [],
   "source": [
    "filters['mcap>e10'] = list(mcap_per_comp[mcap_per_comp['mcap']>1e10].index.values)"
   ]
  },
  {
   "cell_type": "markdown",
   "metadata": {},
   "source": [
    "# Grouping porfolio by different criteria"
   ]
  },
  {
   "cell_type": "code",
   "execution_count": 90,
   "metadata": {},
   "outputs": [],
   "source": [
    "by_industry = company[['industryName', 'ticker']]"
   ]
  },
  {
   "cell_type": "code",
   "execution_count": 92,
   "metadata": {},
   "outputs": [],
   "source": [
    "by_industry = by_industry[by_industry['industryName']!='-']"
   ]
  },
  {
   "cell_type": "code",
   "execution_count": 96,
   "metadata": {},
   "outputs": [],
   "source": [
    "by_industry_count = by_industry.groupby('industryName').count()\n",
    "gt5_perindustry = by_industry_count[by_industry_count['ticker'] > 5].index"
   ]
  },
  {
   "cell_type": "code",
   "execution_count": 111,
   "metadata": {},
   "outputs": [],
   "source": [
    "gt5_perindustry = company[company['industryName'].isin(gt5_perindustry)]['ticker'].values"
   ]
  },
  {
   "cell_type": "code",
   "execution_count": null,
   "metadata": {},
   "outputs": [],
   "source": [
    "by_revenue = company[['revenue_mapping', 'ticker']].dropna()"
   ]
  },
  {
   "cell_type": "code",
   "execution_count": 82,
   "metadata": {},
   "outputs": [],
   "source": [
    "mapping = {0.0: '>1B', \n",
    "           1.0: '100M-1B', \n",
    "           2.0: '1M-100M', \n",
    "           3.0: '<1M'\n",
    "}\n",
    "\n",
    "by_revenue['revenue_bin'] = by_revenue['revenue_mapping'].map(mapping)"
   ]
  },
  {
   "cell_type": "code",
   "execution_count": 86,
   "metadata": {},
   "outputs": [],
   "source": [
    "by_revenue = by_revenue[['revenue_bin', 'ticker']].reset_index(drop=True)"
   ]
  },
  {
   "cell_type": "code",
   "execution_count": 73,
   "metadata": {},
   "outputs": [],
   "source": [
    "by_employee = company[['size', 'ticker']].dropna()\n",
    "by_employee.rename(columns={'size':'group'},inplace=True)"
   ]
  },
  {
   "cell_type": "markdown",
   "metadata": {},
   "source": [
    "### time series rolling review counts"
   ]
  },
  {
   "cell_type": "code",
   "execution_count": 117,
   "metadata": {},
   "outputs": [
    {
     "name": "stderr",
     "output_type": "stream",
     "text": [
      "/tmp/ipykernel_3205583/1110825391.py:3: FutureWarning: 'M' is deprecated and will be removed in a future version, please use 'ME' instead.\n",
      "  monthly_review_count = glassd_classification[['reviewId','ticker']].groupby('ticker').resample('M').count()\n",
      "/tmp/ipykernel_3205583/1110825391.py:9: FutureWarning: 'Q' is deprecated and will be removed in a future version, please use 'QE' instead.\n",
      "  quarterly_review_count = glassd_classification[['reviewId','ticker']].groupby('ticker').resample('Q').count()\n"
     ]
    }
   ],
   "source": [
    "glassd_classification['reviewDateTime']=pd.to_datetime(glassd_classification['reviewDateTime'])\n",
    "glassd_classification.set_index('reviewDateTime',inplace=True,drop=True)\n",
    "monthly_review_count = glassd_classification[['reviewId','ticker']].groupby('ticker').resample('M').count()\n",
    "avg_monthly_review_count = monthly_review_count['reviewId'].reset_index()[['ticker','reviewId']].groupby('ticker').mean()\n",
    "avg_monthly_review_count = avg_monthly_review_count.sort_values('reviewId')\n",
    "month_g1 = avg_monthly_review_count[avg_monthly_review_count['reviewId']>1]\n",
    "month_g10 = avg_monthly_review_count[avg_monthly_review_count['reviewId']>10]\n",
    "\n",
    "quarterly_review_count = glassd_classification[['reviewId','ticker']].groupby('ticker').resample('Q').count()\n",
    "avg_quarterly_review_count = quarterly_review_count['reviewId'].reset_index()[['ticker','reviewId']].groupby('ticker').mean()\n",
    "avg_quarterly_review_count = avg_quarterly_review_count.sort_values('reviewId')\n",
    "\n",
    "quarter_g1 = avg_quarterly_review_count[avg_quarterly_review_count['reviewId']>1]\n",
    "quarter_g10 = avg_quarterly_review_count[avg_quarterly_review_count['reviewId']>10]\n",
    "quarter_g100 = avg_quarterly_review_count[avg_quarterly_review_count['reviewId']>100]"
   ]
  },
  {
   "cell_type": "code",
   "execution_count": 120,
   "metadata": {},
   "outputs": [],
   "source": [
    "all_filters = {}\n",
    "all_filters['trade_between_2020_2023'] = list(trading_2023_req.index.values)\n",
    "all_filters['more_than_5_reviews'] = list(filter_g5.index.values)\n",
    "all_filters['more_than_50_reviews'] = list(filter_g50.index.values)\n",
    "all_filters['on_glassdoor_before_2013'] = list(filter_earliest_review.index.values)\n",
    "all_filters['more_than_5_companies_per_industry'] = list(gt5_perindustry)\n",
    "all_filters['more_than_1_review_per_month'] = list(month_g1.index.values)\n",
    "all_filters['more_than_10_review_per_month'] = list(month_g10.index.values)\n",
    "all_filters['more_than_1_review_per_quarter'] = list(quarter_g1.index.values)\n",
    "all_filters['more_than_10_review_per_quarter'] = list(quarter_g10.index.values)\n",
    "all_filters['more_than_109_review_per_quarter'] = list(quarter_g100.index.values)"
   ]
  },
  {
   "cell_type": "code",
   "execution_count": 122,
   "metadata": {},
   "outputs": [],
   "source": [
    "import pickle\n",
    "with open('filters.pkl', 'wb') as file:\n",
    "    pickle.dump(all_filters, file)"
   ]
  },
  {
   "cell_type": "code",
   "execution_count": 125,
   "metadata": {},
   "outputs": [
    {
     "data": {
      "text/html": [
       "<div>\n",
       "<style scoped>\n",
       "    .dataframe tbody tr th:only-of-type {\n",
       "        vertical-align: middle;\n",
       "    }\n",
       "\n",
       "    .dataframe tbody tr th {\n",
       "        vertical-align: top;\n",
       "    }\n",
       "\n",
       "    .dataframe thead th {\n",
       "        text-align: right;\n",
       "    }\n",
       "</style>\n",
       "<table border=\"1\" class=\"dataframe\">\n",
       "  <thead>\n",
       "    <tr style=\"text-align: right;\">\n",
       "      <th></th>\n",
       "      <th>industryName</th>\n",
       "      <th>ticker</th>\n",
       "    </tr>\n",
       "  </thead>\n",
       "  <tbody>\n",
       "    <tr>\n",
       "      <th>0</th>\n",
       "      <td>Healthcare Services &amp; Hospitals</td>\n",
       "      <td>AAC</td>\n",
       "    </tr>\n",
       "    <tr>\n",
       "      <th>1</th>\n",
       "      <td>Machinery Manufacturing</td>\n",
       "      <td>AAON</td>\n",
       "    </tr>\n",
       "    <tr>\n",
       "      <th>2</th>\n",
       "      <td>Aerospace &amp; Defence</td>\n",
       "      <td>AIR</td>\n",
       "    </tr>\n",
       "    <tr>\n",
       "      <th>3</th>\n",
       "      <td>Consumer Product Manufacturing</td>\n",
       "      <td>ACCO</td>\n",
       "    </tr>\n",
       "    <tr>\n",
       "      <th>4</th>\n",
       "      <td>Banking &amp; Lending</td>\n",
       "      <td>ACNB</td>\n",
       "    </tr>\n",
       "    <tr>\n",
       "      <th>...</th>\n",
       "      <td>...</td>\n",
       "      <td>...</td>\n",
       "    </tr>\n",
       "    <tr>\n",
       "      <th>4496</th>\n",
       "      <td>Energy &amp; Utilities</td>\n",
       "      <td>RDC</td>\n",
       "    </tr>\n",
       "    <tr>\n",
       "      <th>4497</th>\n",
       "      <td>Healthcare Services &amp; Hospitals</td>\n",
       "      <td>STE</td>\n",
       "    </tr>\n",
       "    <tr>\n",
       "      <th>4498</th>\n",
       "      <td>Biotech &amp; Pharmaceuticals</td>\n",
       "      <td>PRGO</td>\n",
       "    </tr>\n",
       "    <tr>\n",
       "      <th>4499</th>\n",
       "      <td>Machinery Manufacturing</td>\n",
       "      <td>SSYS</td>\n",
       "    </tr>\n",
       "    <tr>\n",
       "      <th>4500</th>\n",
       "      <td>Information Technology Support Services</td>\n",
       "      <td>PLPM</td>\n",
       "    </tr>\n",
       "  </tbody>\n",
       "</table>\n",
       "<p>4011 rows × 2 columns</p>\n",
       "</div>"
      ],
      "text/plain": [
       "                                 industryName ticker\n",
       "0             Healthcare Services & Hospitals    AAC\n",
       "1                     Machinery Manufacturing   AAON\n",
       "2                         Aerospace & Defence    AIR\n",
       "3              Consumer Product Manufacturing   ACCO\n",
       "4                           Banking & Lending   ACNB\n",
       "...                                       ...    ...\n",
       "4496                       Energy & Utilities    RDC\n",
       "4497          Healthcare Services & Hospitals    STE\n",
       "4498                Biotech & Pharmaceuticals   PRGO\n",
       "4499                  Machinery Manufacturing   SSYS\n",
       "4500  Information Technology Support Services   PLPM\n",
       "\n",
       "[4011 rows x 2 columns]"
      ]
     },
     "execution_count": 125,
     "metadata": {},
     "output_type": "execute_result"
    }
   ],
   "source": [
    "by_industry"
   ]
  },
  {
   "cell_type": "code",
   "execution_count": 126,
   "metadata": {},
   "outputs": [],
   "source": [
    "by_revenue.rename(columns={'revenue_bin':'group'},inplace=True)\n",
    "by_industry.rename(columns={'industryName': 'group'},inplace=True)"
   ]
  },
  {
   "cell_type": "code",
   "execution_count": 129,
   "metadata": {},
   "outputs": [],
   "source": [
    "by_employee.to_csv('by_employee.csv',index=False)\n",
    "by_industry.to_csv('by_industry.csv',index=False)\n",
    "by_revenue.to_csv('by_revenue.csv',index=False)"
   ]
  },
  {
   "cell_type": "markdown",
   "metadata": {},
   "source": [
    "## Preliminary cleaning"
   ]
  },
  {
   "cell_type": "code",
   "execution_count": 23,
   "metadata": {},
   "outputs": [],
   "source": [
    "# 1. drop rows with more unhelpful comments than helpfuls\n",
    "glassd_classification_cleaned = glassd_classification[(glassd_classification['countNotHelpful']-glassd_classification['countHelpful'])<10]\n",
    "\n",
    "# 2. drop rows with empty pros/cons\n",
    "glassd_classification_cleaned = glassd_classification_cleaned[~glassd_classification_cleaned['reviewId'].isin(text[text[['pros','cons']].isna().any(axis=1)]['reviewId'])]\n",
    "\n",
    "# 3. drop duplicates\n",
    "glassd_classification_cleaned = glassd_classification_cleaned.drop_duplicates(subset=['reviewId'])\n",
    "\n",
    "# 4. drop unnecessary columns\n",
    "\n",
    "glassd_classification_cleaned = glassd_classification_cleaned.drop(['Id','dataVendorId','reviewDetailUrl','updateDateTime'],axis=1)\n"
   ]
  },
  {
   "cell_type": "code",
   "execution_count": 19,
   "metadata": {},
   "outputs": [
    {
     "data": {
      "text/html": [
       "<div>\n",
       "<style scoped>\n",
       "    .dataframe tbody tr th:only-of-type {\n",
       "        vertical-align: middle;\n",
       "    }\n",
       "\n",
       "    .dataframe tbody tr th {\n",
       "        vertical-align: top;\n",
       "    }\n",
       "\n",
       "    .dataframe thead th {\n",
       "        text-align: right;\n",
       "    }\n",
       "</style>\n",
       "<table border=\"1\" class=\"dataframe\">\n",
       "  <thead>\n",
       "    <tr style=\"text-align: right;\">\n",
       "      <th></th>\n",
       "      <th>reviewId</th>\n",
       "      <th>summary</th>\n",
       "      <th>pros</th>\n",
       "      <th>cons</th>\n",
       "      <th>advice</th>\n",
       "      <th>other_data</th>\n",
       "      <th>updateDateTime</th>\n",
       "    </tr>\n",
       "  </thead>\n",
       "  <tbody>\n",
       "    <tr>\n",
       "      <th>98188</th>\n",
       "      <td>1035568</td>\n",
       "      <td>cool</td>\n",
       "      <td>Facebook during work hours. so fun</td>\n",
       "      <td>boring no duties for intern</td>\n",
       "      <td>None</td>\n",
       "      <td>{\"isLegal\": true, \"employer\": {\"__ref\": \"Emplo...</td>\n",
       "      <td>2023-08-28 01:56:59</td>\n",
       "    </tr>\n",
       "  </tbody>\n",
       "</table>\n",
       "</div>"
      ],
      "text/plain": [
       "       reviewId summary                                pros  \\\n",
       "98188   1035568    cool  Facebook during work hours. so fun   \n",
       "\n",
       "                              cons advice  \\\n",
       "98188  boring no duties for intern   None   \n",
       "\n",
       "                                              other_data       updateDateTime  \n",
       "98188  {\"isLegal\": true, \"employer\": {\"__ref\": \"Emplo...  2023-08-28 01:56:59  "
      ]
     },
     "execution_count": 19,
     "metadata": {},
     "output_type": "execute_result"
    }
   ],
   "source": [
    "text[text['reviewId'].isin([1035568])]"
   ]
  },
  {
   "cell_type": "code",
   "execution_count": 7,
   "metadata": {},
   "outputs": [
    {
     "data": {
      "text/plain": [
       "Id                                     0\n",
       "dataVendorId                           0\n",
       "reviewId                               0\n",
       "glassdoorId                            0\n",
       "reviewDateTime                         0\n",
       "reviewDetailUrl                     1955\n",
       "isCurrentJob                           0\n",
       "lengthOfEmployment                     0\n",
       "jobtitle_ref                     1011779\n",
       "location_ref                     1667847\n",
       "ratingOverall                          0\n",
       "ratingCareerOpportunities              0\n",
       "ratingCompensationAndBenefits          0\n",
       "ratingCultureAndValues                 0\n",
       "ratingSeniorLeadership                 0\n",
       "ratingWorkLifeBalance                  0\n",
       "ratingDiversityAndInclusion            0\n",
       "ratingBusinessOutlook            1506386\n",
       "ratingCeo                        1508890\n",
       "ratingRecommendToFriend          1233076\n",
       "countHelpful                           0\n",
       "countNotHelpful                        0\n",
       "updateDateTime                         0\n",
       "dtype: int64"
      ]
     },
     "execution_count": 7,
     "metadata": {},
     "output_type": "execute_result"
    }
   ],
   "source": [
    "glassd_classification.isna().sum()"
   ]
  },
  {
   "cell_type": "code",
   "execution_count": 27,
   "metadata": {},
   "outputs": [],
   "source": [
    "revenue_mapping = {\n",
    "    '$10+ billion (USD)': 0,\n",
    "    '$5 to $10 billion (USD)': 0,\n",
    "    '$2 to $5 billion (USD)': 0,\n",
    "    '$1 to $2 billion (USD)': 0,\n",
    "    '$1 to $5 billion (USD)': 0,\n",
    "    '$500 million to $1 billion (USD)': 1,\n",
    "    '$100 to $500 million (USD)': 1,\n",
    "    '$10 to $25 million (USD)': 2,\n",
    "    '$5 to $25 million (USD)': 2,\n",
    "    '$5 to $10 million (USD)': 2,\n",
    "    '$1 to $5 million (USD)': 2,\n",
    "    'Less than $1 million (USD)': 3,\n",
    "    'Unknown  Non-Applicable': None,\n",
    "    'Unknown / Non-Applicable': None,\n",
    "    'Company - Public': None,\n",
    "    'SEAC': None,\n",
    "}\n",
    "\n",
    "company['revenue_mapping'] = company['revenue'].map(revenue_mapping)"
   ]
  },
  {
   "cell_type": "code",
   "execution_count": 29,
   "metadata": {},
   "outputs": [
    {
     "data": {
      "text/plain": [
       "compustatName         0\n",
       "cusip                 0\n",
       "shortName             1\n",
       "website              97\n",
       "comType              58\n",
       "revenue              57\n",
       "headquarters         69\n",
       "size                 57\n",
       "stock              1471\n",
       "industryName         58\n",
       "glassdoorId           0\n",
       "yearFounded        1516\n",
       "reviewCount        4512\n",
       "revenue_mapping    1828\n",
       "dtype: int64"
      ]
     },
     "execution_count": 29,
     "metadata": {},
     "output_type": "execute_result"
    }
   ],
   "source": [
    "company.isna().sum()\n"
   ]
  },
  {
   "cell_type": "code",
   "execution_count": 63,
   "metadata": {},
   "outputs": [],
   "source": [
    "# missing ticker mappings\n",
    "company_name_mapping = USstock_daily[['comnam','ticker']].drop_duplicates(subset=['comnam'])\n",
    "company_name_mapping.dropna(inplace=True)\n",
    "company_name_mapping.index = company_name_mapping['comnam']\n",
    "company_name_mapping = company_name_mapping.drop('comnam',axis=1)\n",
    "\n",
    "company['compustatName'] = company['compustatName'].apply(lambda x: x.strip())\n",
    "company['ticker_'] = company['compustatName'].map(company_name_mapping['ticker'])\n",
    "company['ticker'] = company.apply(lambda x: x['stock'] if x['stock']!=None else x['ticker_'],axis=1)"
   ]
  },
  {
   "cell_type": "code",
   "execution_count": 66,
   "metadata": {},
   "outputs": [
    {
     "data": {
      "text/plain": [
       "compustatName         0\n",
       "cusip                 0\n",
       "shortName             1\n",
       "website              97\n",
       "comType              58\n",
       "revenue              57\n",
       "headquarters         69\n",
       "size                 57\n",
       "stock              1471\n",
       "industryName         58\n",
       "glassdoorId           0\n",
       "yearFounded        1516\n",
       "reviewCount        4512\n",
       "revenue_mapping    1828\n",
       "ticker              454\n",
       "ticker_            1607\n",
       "dtype: int64"
      ]
     },
     "execution_count": 66,
     "metadata": {},
     "output_type": "execute_result"
    }
   ],
   "source": [
    "company.isna().sum()"
   ]
  },
  {
   "cell_type": "code",
   "execution_count": 75,
   "metadata": {},
   "outputs": [],
   "source": [
    "# drop any remaining tickers with no valid stock ticker\n",
    "company = company[~company[['ticker']].isna().any(axis=1)]"
   ]
  },
  {
   "cell_type": "code",
   "execution_count": null,
   "metadata": {},
   "outputs": [],
   "source": [
    "# country mapping\n",
    "company[['city','state/country']] = company['headquarters'].str.split(',', expand=True)\n",
    "company['country'] = company['state/country'].apply(lambda x: 'US' if isinstance(x,str) and (len(x.strip())==2 or x=='United States') else x)"
   ]
  },
  {
   "cell_type": "code",
   "execution_count": 95,
   "metadata": {},
   "outputs": [],
   "source": [
    "# drop unnecessary columns\n",
    "\n",
    "company = company.drop(['cusip','ticker_', 'stock'],axis=1)\n"
   ]
  },
  {
   "cell_type": "code",
   "execution_count": 6,
   "metadata": {},
   "outputs": [],
   "source": [
    "stock_monthly = pd.read_csv('/home/group3/group3/Finalized/data/stock_monthly.csv')\n",
    "stock_monthly['date'] = pd.to_datetime(stock_monthly['date'])"
   ]
  },
  {
   "cell_type": "code",
   "execution_count": 20,
   "metadata": {},
   "outputs": [
    {
     "data": {
      "text/plain": [
       "202"
      ]
     },
     "execution_count": 20,
     "metadata": {},
     "output_type": "execute_result"
    }
   ],
   "source": [
    "len(stock_monthly[stock_monthly['ret']>3]['ticker'].unique())"
   ]
  },
  {
   "cell_type": "code",
   "execution_count": 22,
   "metadata": {},
   "outputs": [
    {
     "data": {
      "text/plain": [
       "80"
      ]
     },
     "execution_count": 22,
     "metadata": {},
     "output_type": "execute_result"
    }
   ],
   "source": [
    "len(set(stock_monthly[stock_monthly['ret']<0.2]['ticker'].unique()))"
   ]
  },
  {
   "cell_type": "code",
   "execution_count": 16,
   "metadata": {},
   "outputs": [],
   "source": [
    "filters = pd.read_pickle('/home/group3/group3/Finalized/groupings/filters.pkl')\n"
   ]
  },
  {
   "cell_type": "code",
   "execution_count": 25,
   "metadata": {},
   "outputs": [],
   "source": [
    "filters['extreme_stocks'] = list(set(stock_monthly[stock_monthly['ret']>3]['ticker'].unique()).union(set(stock_monthly[stock_monthly['ret']<0.2]['ticker'].unique())))"
   ]
  },
  {
   "cell_type": "code",
   "execution_count": 24,
   "metadata": {},
   "outputs": [],
   "source": [
    "import pickle\n",
    "with open('filters.pkl', 'wb') as file:\n",
    "    pickle.dump(filters, file)"
   ]
  }
 ],
 "metadata": {
  "kernelspec": {
   "display_name": "Python 3 (ipykernel)",
   "language": "python",
   "name": "python3"
  },
  "language_info": {
   "codemirror_mode": {
    "name": "ipython",
    "version": 3
   },
   "file_extension": ".py",
   "mimetype": "text/x-python",
   "name": "python",
   "nbconvert_exporter": "python",
   "pygments_lexer": "ipython3",
   "version": "3.11.5"
  }
 },
 "nbformat": 4,
 "nbformat_minor": 4
}
