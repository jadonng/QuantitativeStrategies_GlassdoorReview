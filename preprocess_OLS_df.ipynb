{
 "cells": [
  {
   "cell_type": "code",
   "execution_count": 1,
   "metadata": {},
   "outputs": [],
   "source": [
    "import os\n",
    "import sys\n",
    "sys.path.append('/home/group3/group3/Finalized')\n",
    "\n",
    "import pandas as pd\n",
    "import matplotlib.pyplot as plt\n",
    "import numpy as np\n",
    "from helper import *"
   ]
  },
  {
   "cell_type": "code",
   "execution_count": 4,
   "metadata": {},
   "outputs": [],
   "source": [
    "company = pd.read_parquet('/home/group3/group3/Finalized/data/company_overview_cleaned.parquet')\n",
    "glassd_classification = pd.read_parquet('/home/group3/group3/Finalized/data/glassd_classification_cleaned.parquet')\n",
    "glassd_classification['reviewDateTime'] = pd.to_datetime(glassd_classification['reviewDateTime'])\n",
    "glassd_classification.set_index('reviewDateTime',inplace=True)\n",
    "# USstock_daily = pd.read_parquet('/quant_data/schedule_store/data/daily_US_Stock/crsp_dsf_20240620.pq')\n",
    "\n",
    "stock_monthly = pd.read_csv('/home/group3/group3/Finalized/data/stock_monthly.csv')\n",
    "stock_monthly['date'] = pd.to_datetime(stock_monthly['date'])\n",
    "rolling_ret = pd.read_csv('/home/group3/group3/Finalized/data/rolling_future_ret.csv')\n",
    "rolling_ret['date'] = pd.to_datetime(rolling_ret['date'])\n",
    "rolling_ratings = pd.read_csv('/home/group3/group3/Finalized/data/rolling_period_ratings_stats.csv')\n",
    "rolling_ratings['reviewDateTime'] = pd.to_datetime(rolling_ratings['reviewDateTime'])\n",
    "rolling_ret_rating = pd.merge(rolling_ratings,rolling_ret, left_on=['ticker','reviewDateTime'], right_on=['ticker','date'])\n",
    "\n",
    "by_industry = pd.read_csv('/home/group3/group3/Finalized/groupings/by_industry.csv')\n",
    "filters = pd.read_pickle('/home/group3/group3/Finalized/groupings/filters.pkl')"
   ]
  },
  {
   "cell_type": "code",
   "execution_count": 4,
   "metadata": {},
   "outputs": [
    {
     "data": {
      "text/plain": [
       "dict_keys(['trade_between_2020_2023', 'more_than_5_reviews', 'more_than_50_reviews', 'on_glassdoor_before_2013', 'more_than_5_companies_per_industry', 'more_than_1_review_per_month', 'more_than_10_review_per_month', 'more_than_1_review_per_quarter', 'more_than_10_review_per_quarter', 'more_than_109_review_per_quarter'])"
      ]
     },
     "execution_count": 4,
     "metadata": {},
     "output_type": "execute_result"
    }
   ],
   "source": [
    "filters.keys()"
   ]
  },
  {
   "cell_type": "code",
   "execution_count": 5,
   "metadata": {},
   "outputs": [],
   "source": [
    "universe = list(set(filters['more_than_5_reviews']) & set(filters['on_glassdoor_before_2013']))\n",
    "filtered_df = rolling_ret_rating[rolling_ret_rating['ticker'].isin(universe)][rolling_ret_rating['reviewDateTime']>'2013-01-01']"
   ]
  },
  {
   "cell_type": "code",
   "execution_count": 14,
   "metadata": {},
   "outputs": [],
   "source": [
    "filtered_df.set_index('reviewDateTime',drop=True,inplace=True)"
   ]
  },
  {
   "cell_type": "markdown",
   "metadata": {},
   "source": [
    "# Create different filtered rolling dataframes"
   ]
  },
  {
   "cell_type": "code",
   "execution_count": 35,
   "metadata": {},
   "outputs": [],
   "source": [
    "# glassd_classification=pd.merge(glassd_classification, by_industry, on='ticker')\n",
    "# testing_df = glassd_classification[glassd_classification['group']=='Computer Hardware Development']\n",
    "# testing_df['reviewDateTime'] = pd.to_datetime(testing_df['reviewDateTime'])\n",
    "# testing_df.set_index('reviewDateTime',inplace=True)"
   ]
  },
  {
   "cell_type": "code",
   "execution_count": 3,
   "metadata": {},
   "outputs": [
    {
     "data": {
      "text/plain": [
       "Index(['reviewId', 'glassdoorId', 'reviewDateTime', 'isCurrentJob',\n",
       "       'lengthOfEmployment', 'jobtitle_ref', 'location_ref', 'ratingOverall',\n",
       "       'ratingCareerOpportunities', 'ratingCompensationAndBenefits',\n",
       "       'ratingCultureAndValues', 'ratingSeniorLeadership',\n",
       "       'ratingWorkLifeBalance', 'ratingDiversityAndInclusion',\n",
       "       'ratingBusinessOutlook', 'ratingCeo', 'ratingRecommendToFriend',\n",
       "       'countHelpful', 'countNotHelpful', 'ticker'],\n",
       "      dtype='object')"
      ]
     },
     "execution_count": 3,
     "metadata": {},
     "output_type": "execute_result"
    }
   ],
   "source": [
    "glassd_classification.columns"
   ]
  },
  {
   "cell_type": "markdown",
   "metadata": {},
   "source": [
    "### 1. is currently employed or not"
   ]
  },
  {
   "cell_type": "code",
   "execution_count": 7,
   "metadata": {},
   "outputs": [],
   "source": [
    "employed = glassd_classification[glassd_classification['isCurrentJob']==1]\n",
    "not_employed = glassd_classification[glassd_classification['isCurrentJob']==0]"
   ]
  },
  {
   "cell_type": "code",
   "execution_count": 10,
   "metadata": {},
   "outputs": [
    {
     "name": "stderr",
     "output_type": "stream",
     "text": [
      "/home/group3/group3/Finalized/helper.py:18: FutureWarning: 'M' is deprecated and will be removed in a future version, please use 'ME' instead.\n",
      "  col_avg = df[['ticker',col]].groupby('ticker').resample('M').agg(\n",
      "/home/group3/group3/Finalized/helper.py:18: FutureWarning: 'M' is deprecated and will be removed in a future version, please use 'ME' instead.\n",
      "  col_avg = df[['ticker',col]].groupby('ticker').resample('M').agg(\n",
      "/home/group3/group3/Finalized/helper.py:18: FutureWarning: 'M' is deprecated and will be removed in a future version, please use 'ME' instead.\n",
      "  col_avg = df[['ticker',col]].groupby('ticker').resample('M').agg(\n",
      "/home/group3/group3/Finalized/helper.py:18: FutureWarning: 'M' is deprecated and will be removed in a future version, please use 'ME' instead.\n",
      "  col_avg = df[['ticker',col]].groupby('ticker').resample('M').agg(\n",
      "/home/group3/group3/Finalized/helper.py:18: FutureWarning: 'M' is deprecated and will be removed in a future version, please use 'ME' instead.\n",
      "  col_avg = df[['ticker',col]].groupby('ticker').resample('M').agg(\n",
      "/home/group3/group3/Finalized/helper.py:18: FutureWarning: 'M' is deprecated and will be removed in a future version, please use 'ME' instead.\n",
      "  col_avg = df[['ticker',col]].groupby('ticker').resample('M').agg(\n",
      "/home/group3/group3/Finalized/helper.py:18: FutureWarning: 'M' is deprecated and will be removed in a future version, please use 'ME' instead.\n",
      "  col_avg = df[['ticker',col]].groupby('ticker').resample('M').agg(\n"
     ]
    }
   ],
   "source": [
    "employed_rolling_df = get_rolling_ratings_ret_df(employed)"
   ]
  },
  {
   "cell_type": "code",
   "execution_count": null,
   "metadata": {},
   "outputs": [],
   "source": [
    "not_employed_rolling_df = get_rolling_ratings_ret_df(not_employed)"
   ]
  },
  {
   "cell_type": "code",
   "execution_count": 29,
   "metadata": {},
   "outputs": [],
   "source": [
    "# employed_rolling_df_new.to_csv('employed_OLS.csv',index=False)"
   ]
  },
  {
   "cell_type": "code",
   "execution_count": 31,
   "metadata": {},
   "outputs": [],
   "source": [
    "# not_employed_rolling_df_new.to_csv('not_employed_OLS.csv',index=False)"
   ]
  },
  {
   "cell_type": "code",
   "execution_count": 11,
   "metadata": {},
   "outputs": [],
   "source": [
    "glassd_classification = pd.read_parquet('/home/group3/group3/Finalized/data/glassd_classification_cleaned.parquet')\n",
    "glassd_classification['reviewDateTime'] = pd.to_datetime(glassd_classification['reviewDateTime'])\n",
    "glassd_classification.set_index('reviewDateTime',inplace=True)\n",
    "filters = pd.read_pickle('/home/group3/group3/Finalized/groupings/filters.pkl')\n",
    "filtered_df = rolling_ratings[(rolling_ratings['reviewDateTime']>'2014-01-01')] # & (rolling_ratings['reviewDateTime']<'2019-9-01')\n",
    "universe = list(set(filters['more_than_50_reviews']) & set(filters['on_glassdoor_before_2013']) & set(filters['mcap>e9']))\n",
    "filtered_df = glassd_classification[glassd_classification['ticker'].isin(universe)]\n",
    "filtered_df = filtered_df[filtered_df.index>'2013-01-01']"
   ]
  },
  {
   "cell_type": "code",
   "execution_count": 3,
   "metadata": {},
   "outputs": [
    {
     "data": {
      "text/html": [
       "<div>\n",
       "<style scoped>\n",
       "    .dataframe tbody tr th:only-of-type {\n",
       "        vertical-align: middle;\n",
       "    }\n",
       "\n",
       "    .dataframe tbody tr th {\n",
       "        vertical-align: top;\n",
       "    }\n",
       "\n",
       "    .dataframe thead th {\n",
       "        text-align: right;\n",
       "    }\n",
       "</style>\n",
       "<table border=\"1\" class=\"dataframe\">\n",
       "  <thead>\n",
       "    <tr style=\"text-align: right;\">\n",
       "      <th></th>\n",
       "      <th>ticker</th>\n",
       "      <th>reviewDateTime</th>\n",
       "      <th>1_ratingOverall_total</th>\n",
       "      <th>1_ratingOverall_count</th>\n",
       "      <th>1_ratingCareerOpportunities_total</th>\n",
       "      <th>1_ratingCareerOpportunities_count</th>\n",
       "      <th>1_ratingCompensationAndBenefits_total</th>\n",
       "      <th>1_ratingCompensationAndBenefits_count</th>\n",
       "      <th>1_ratingCultureAndValues_total</th>\n",
       "      <th>1_ratingCultureAndValues_count</th>\n",
       "      <th>...</th>\n",
       "      <th>ret</th>\n",
       "      <th>1M_ret</th>\n",
       "      <th>3M_ret</th>\n",
       "      <th>6M_ret</th>\n",
       "      <th>9M_ret</th>\n",
       "      <th>12M_ret</th>\n",
       "      <th>18M_ret</th>\n",
       "      <th>24M_ret</th>\n",
       "      <th>date_y</th>\n",
       "      <th>openprc</th>\n",
       "    </tr>\n",
       "  </thead>\n",
       "  <tbody>\n",
       "    <tr>\n",
       "      <th>68</th>\n",
       "      <td>A</td>\n",
       "      <td>2014-01-31</td>\n",
       "      <td>42.0</td>\n",
       "      <td>12.0</td>\n",
       "      <td>36.0</td>\n",
       "      <td>12.0</td>\n",
       "      <td>44.0</td>\n",
       "      <td>12.0</td>\n",
       "      <td>44.0</td>\n",
       "      <td>12.0</td>\n",
       "      <td>...</td>\n",
       "      <td>1.016788</td>\n",
       "      <td>0.979021</td>\n",
       "      <td>0.931529</td>\n",
       "      <td>0.969089</td>\n",
       "      <td>0.957323</td>\n",
       "      <td>0.905765</td>\n",
       "      <td>0.986876</td>\n",
       "      <td>0.912487</td>\n",
       "      <td>2014-01-31</td>\n",
       "      <td>58.61</td>\n",
       "    </tr>\n",
       "    <tr>\n",
       "      <th>69</th>\n",
       "      <td>A</td>\n",
       "      <td>2014-02-28</td>\n",
       "      <td>29.0</td>\n",
       "      <td>7.0</td>\n",
       "      <td>22.0</td>\n",
       "      <td>5.0</td>\n",
       "      <td>15.0</td>\n",
       "      <td>4.0</td>\n",
       "      <td>19.0</td>\n",
       "      <td>4.0</td>\n",
       "      <td>...</td>\n",
       "      <td>0.979021</td>\n",
       "      <td>0.982259</td>\n",
       "      <td>1.002551</td>\n",
       "      <td>1.008737</td>\n",
       "      <td>1.044340</td>\n",
       "      <td>1.033931</td>\n",
       "      <td>0.893807</td>\n",
       "      <td>0.924611</td>\n",
       "      <td>2014-02-28</td>\n",
       "      <td>56.45</td>\n",
       "    </tr>\n",
       "    <tr>\n",
       "      <th>70</th>\n",
       "      <td>A</td>\n",
       "      <td>2014-03-31</td>\n",
       "      <td>45.0</td>\n",
       "      <td>12.0</td>\n",
       "      <td>41.0</td>\n",
       "      <td>12.0</td>\n",
       "      <td>41.0</td>\n",
       "      <td>12.0</td>\n",
       "      <td>44.0</td>\n",
       "      <td>11.0</td>\n",
       "      <td>...</td>\n",
       "      <td>0.982259</td>\n",
       "      <td>0.968675</td>\n",
       "      <td>1.031986</td>\n",
       "      <td>1.026114</td>\n",
       "      <td>1.018425</td>\n",
       "      <td>1.038669</td>\n",
       "      <td>0.862828</td>\n",
       "      <td>1.004318</td>\n",
       "      <td>2014-03-31</td>\n",
       "      <td>54.97</td>\n",
       "    </tr>\n",
       "    <tr>\n",
       "      <th>71</th>\n",
       "      <td>A</td>\n",
       "      <td>2014-04-30</td>\n",
       "      <td>50.0</td>\n",
       "      <td>15.0</td>\n",
       "      <td>29.0</td>\n",
       "      <td>11.0</td>\n",
       "      <td>36.0</td>\n",
       "      <td>11.0</td>\n",
       "      <td>38.0</td>\n",
       "      <td>11.0</td>\n",
       "      <td>...</td>\n",
       "      <td>0.968675</td>\n",
       "      <td>1.053664</td>\n",
       "      <td>1.040321</td>\n",
       "      <td>1.027691</td>\n",
       "      <td>0.972342</td>\n",
       "      <td>1.067612</td>\n",
       "      <td>0.979725</td>\n",
       "      <td>1.067673</td>\n",
       "      <td>2014-04-30</td>\n",
       "      <td>53.43</td>\n",
       "    </tr>\n",
       "    <tr>\n",
       "      <th>72</th>\n",
       "      <td>A</td>\n",
       "      <td>2014-05-31</td>\n",
       "      <td>6.0</td>\n",
       "      <td>2.0</td>\n",
       "      <td>4.0</td>\n",
       "      <td>2.0</td>\n",
       "      <td>6.0</td>\n",
       "      <td>2.0</td>\n",
       "      <td>6.0</td>\n",
       "      <td>2.0</td>\n",
       "      <td>...</td>\n",
       "      <td>1.053664</td>\n",
       "      <td>1.011099</td>\n",
       "      <td>1.006171</td>\n",
       "      <td>1.041683</td>\n",
       "      <td>1.031300</td>\n",
       "      <td>1.008829</td>\n",
       "      <td>1.029804</td>\n",
       "      <td>1.136368</td>\n",
       "      <td>2014-05-31</td>\n",
       "      <td>56.87</td>\n",
       "    </tr>\n",
       "    <tr>\n",
       "      <th>...</th>\n",
       "      <td>...</td>\n",
       "      <td>...</td>\n",
       "      <td>...</td>\n",
       "      <td>...</td>\n",
       "      <td>...</td>\n",
       "      <td>...</td>\n",
       "      <td>...</td>\n",
       "      <td>...</td>\n",
       "      <td>...</td>\n",
       "      <td>...</td>\n",
       "      <td>...</td>\n",
       "      <td>...</td>\n",
       "      <td>...</td>\n",
       "      <td>...</td>\n",
       "      <td>...</td>\n",
       "      <td>...</td>\n",
       "      <td>...</td>\n",
       "      <td>...</td>\n",
       "      <td>...</td>\n",
       "      <td>...</td>\n",
       "      <td>...</td>\n",
       "    </tr>\n",
       "    <tr>\n",
       "      <th>292340</th>\n",
       "      <td>ZTS</td>\n",
       "      <td>2022-08-31</td>\n",
       "      <td>25.0</td>\n",
       "      <td>7.0</td>\n",
       "      <td>17.0</td>\n",
       "      <td>6.0</td>\n",
       "      <td>20.0</td>\n",
       "      <td>6.0</td>\n",
       "      <td>20.0</td>\n",
       "      <td>6.0</td>\n",
       "      <td>...</td>\n",
       "      <td>0.857463</td>\n",
       "      <td>0.947360</td>\n",
       "      <td>0.986852</td>\n",
       "      <td>NaN</td>\n",
       "      <td>NaN</td>\n",
       "      <td>NaN</td>\n",
       "      <td>NaN</td>\n",
       "      <td>NaN</td>\n",
       "      <td>2022-08-31</td>\n",
       "      <td>158.16</td>\n",
       "    </tr>\n",
       "    <tr>\n",
       "      <th>292341</th>\n",
       "      <td>ZTS</td>\n",
       "      <td>2022-09-30</td>\n",
       "      <td>51.0</td>\n",
       "      <td>12.0</td>\n",
       "      <td>40.0</td>\n",
       "      <td>10.0</td>\n",
       "      <td>36.0</td>\n",
       "      <td>10.0</td>\n",
       "      <td>37.0</td>\n",
       "      <td>9.0</td>\n",
       "      <td>...</td>\n",
       "      <td>0.947360</td>\n",
       "      <td>1.018983</td>\n",
       "      <td>0.990393</td>\n",
       "      <td>NaN</td>\n",
       "      <td>NaN</td>\n",
       "      <td>NaN</td>\n",
       "      <td>NaN</td>\n",
       "      <td>NaN</td>\n",
       "      <td>2022-09-30</td>\n",
       "      <td>150.42</td>\n",
       "    </tr>\n",
       "    <tr>\n",
       "      <th>292342</th>\n",
       "      <td>ZTS</td>\n",
       "      <td>2022-10-31</td>\n",
       "      <td>37.0</td>\n",
       "      <td>10.0</td>\n",
       "      <td>27.0</td>\n",
       "      <td>8.0</td>\n",
       "      <td>33.0</td>\n",
       "      <td>8.0</td>\n",
       "      <td>26.0</td>\n",
       "      <td>8.0</td>\n",
       "      <td>...</td>\n",
       "      <td>1.018983</td>\n",
       "      <td>1.022281</td>\n",
       "      <td>NaN</td>\n",
       "      <td>NaN</td>\n",
       "      <td>NaN</td>\n",
       "      <td>NaN</td>\n",
       "      <td>NaN</td>\n",
       "      <td>NaN</td>\n",
       "      <td>2022-10-31</td>\n",
       "      <td>152.11</td>\n",
       "    </tr>\n",
       "    <tr>\n",
       "      <th>292343</th>\n",
       "      <td>ZTS</td>\n",
       "      <td>2022-11-30</td>\n",
       "      <td>38.0</td>\n",
       "      <td>12.0</td>\n",
       "      <td>37.0</td>\n",
       "      <td>12.0</td>\n",
       "      <td>48.0</td>\n",
       "      <td>12.0</td>\n",
       "      <td>38.0</td>\n",
       "      <td>12.0</td>\n",
       "      <td>...</td>\n",
       "      <td>1.022281</td>\n",
       "      <td>0.950759</td>\n",
       "      <td>NaN</td>\n",
       "      <td>NaN</td>\n",
       "      <td>NaN</td>\n",
       "      <td>NaN</td>\n",
       "      <td>NaN</td>\n",
       "      <td>NaN</td>\n",
       "      <td>2022-11-30</td>\n",
       "      <td>148.09</td>\n",
       "    </tr>\n",
       "    <tr>\n",
       "      <th>292344</th>\n",
       "      <td>ZTS</td>\n",
       "      <td>2022-12-31</td>\n",
       "      <td>49.0</td>\n",
       "      <td>11.0</td>\n",
       "      <td>38.0</td>\n",
       "      <td>9.0</td>\n",
       "      <td>38.0</td>\n",
       "      <td>9.0</td>\n",
       "      <td>41.0</td>\n",
       "      <td>9.0</td>\n",
       "      <td>...</td>\n",
       "      <td>0.950759</td>\n",
       "      <td>1.030559</td>\n",
       "      <td>1.375151</td>\n",
       "      <td>1.372739</td>\n",
       "      <td>1.943711</td>\n",
       "      <td>2.613590</td>\n",
       "      <td>2.642542</td>\n",
       "      <td>3.173304</td>\n",
       "      <td>2022-12-31</td>\n",
       "      <td>147.20</td>\n",
       "    </tr>\n",
       "  </tbody>\n",
       "</table>\n",
       "<p>108326 rows × 119 columns</p>\n",
       "</div>"
      ],
      "text/plain": [
       "       ticker reviewDateTime  1_ratingOverall_total  1_ratingOverall_count  \\\n",
       "68          A     2014-01-31                   42.0                   12.0   \n",
       "69          A     2014-02-28                   29.0                    7.0   \n",
       "70          A     2014-03-31                   45.0                   12.0   \n",
       "71          A     2014-04-30                   50.0                   15.0   \n",
       "72          A     2014-05-31                    6.0                    2.0   \n",
       "...       ...            ...                    ...                    ...   \n",
       "292340    ZTS     2022-08-31                   25.0                    7.0   \n",
       "292341    ZTS     2022-09-30                   51.0                   12.0   \n",
       "292342    ZTS     2022-10-31                   37.0                   10.0   \n",
       "292343    ZTS     2022-11-30                   38.0                   12.0   \n",
       "292344    ZTS     2022-12-31                   49.0                   11.0   \n",
       "\n",
       "        1_ratingCareerOpportunities_total  1_ratingCareerOpportunities_count  \\\n",
       "68                                   36.0                               12.0   \n",
       "69                                   22.0                                5.0   \n",
       "70                                   41.0                               12.0   \n",
       "71                                   29.0                               11.0   \n",
       "72                                    4.0                                2.0   \n",
       "...                                   ...                                ...   \n",
       "292340                               17.0                                6.0   \n",
       "292341                               40.0                               10.0   \n",
       "292342                               27.0                                8.0   \n",
       "292343                               37.0                               12.0   \n",
       "292344                               38.0                                9.0   \n",
       "\n",
       "        1_ratingCompensationAndBenefits_total  \\\n",
       "68                                       44.0   \n",
       "69                                       15.0   \n",
       "70                                       41.0   \n",
       "71                                       36.0   \n",
       "72                                        6.0   \n",
       "...                                       ...   \n",
       "292340                                   20.0   \n",
       "292341                                   36.0   \n",
       "292342                                   33.0   \n",
       "292343                                   48.0   \n",
       "292344                                   38.0   \n",
       "\n",
       "        1_ratingCompensationAndBenefits_count  1_ratingCultureAndValues_total  \\\n",
       "68                                       12.0                            44.0   \n",
       "69                                        4.0                            19.0   \n",
       "70                                       12.0                            44.0   \n",
       "71                                       11.0                            38.0   \n",
       "72                                        2.0                             6.0   \n",
       "...                                       ...                             ...   \n",
       "292340                                    6.0                            20.0   \n",
       "292341                                   10.0                            37.0   \n",
       "292342                                    8.0                            26.0   \n",
       "292343                                   12.0                            38.0   \n",
       "292344                                    9.0                            41.0   \n",
       "\n",
       "        1_ratingCultureAndValues_count  ...       ret    1M_ret    3M_ret  \\\n",
       "68                                12.0  ...  1.016788  0.979021  0.931529   \n",
       "69                                 4.0  ...  0.979021  0.982259  1.002551   \n",
       "70                                11.0  ...  0.982259  0.968675  1.031986   \n",
       "71                                11.0  ...  0.968675  1.053664  1.040321   \n",
       "72                                 2.0  ...  1.053664  1.011099  1.006171   \n",
       "...                                ...  ...       ...       ...       ...   \n",
       "292340                             6.0  ...  0.857463  0.947360  0.986852   \n",
       "292341                             9.0  ...  0.947360  1.018983  0.990393   \n",
       "292342                             8.0  ...  1.018983  1.022281       NaN   \n",
       "292343                            12.0  ...  1.022281  0.950759       NaN   \n",
       "292344                             9.0  ...  0.950759  1.030559  1.375151   \n",
       "\n",
       "          6M_ret    9M_ret   12M_ret   18M_ret   24M_ret      date_y  openprc  \n",
       "68      0.969089  0.957323  0.905765  0.986876  0.912487  2014-01-31    58.61  \n",
       "69      1.008737  1.044340  1.033931  0.893807  0.924611  2014-02-28    56.45  \n",
       "70      1.026114  1.018425  1.038669  0.862828  1.004318  2014-03-31    54.97  \n",
       "71      1.027691  0.972342  1.067612  0.979725  1.067673  2014-04-30    53.43  \n",
       "72      1.041683  1.031300  1.008829  1.029804  1.136368  2014-05-31    56.87  \n",
       "...          ...       ...       ...       ...       ...         ...      ...  \n",
       "292340       NaN       NaN       NaN       NaN       NaN  2022-08-31   158.16  \n",
       "292341       NaN       NaN       NaN       NaN       NaN  2022-09-30   150.42  \n",
       "292342       NaN       NaN       NaN       NaN       NaN  2022-10-31   152.11  \n",
       "292343       NaN       NaN       NaN       NaN       NaN  2022-11-30   148.09  \n",
       "292344  1.372739  1.943711  2.613590  2.642542  3.173304  2022-12-31   147.20  \n",
       "\n",
       "[108326 rows x 119 columns]"
      ]
     },
     "execution_count": 3,
     "metadata": {},
     "output_type": "execute_result"
    }
   ],
   "source": [
    "filtered_df"
   ]
  },
  {
   "cell_type": "markdown",
   "metadata": {},
   "source": [
    "### 2. Only consider the data when countHelperful > countNotHelpful"
   ]
  },
  {
   "cell_type": "code",
   "execution_count": 3,
   "metadata": {},
   "outputs": [],
   "source": [
    "helpful = glassd_classification[glassd_classification['countHelpful'] > glassd_classification['countNotHelpful']]\n",
    "nothelpful = glassd_classification[glassd_classification['countHelpful'] < glassd_classification['countNotHelpful']]"
   ]
  },
  {
   "cell_type": "code",
   "execution_count": 4,
   "metadata": {},
   "outputs": [
    {
     "name": "stderr",
     "output_type": "stream",
     "text": [
      "/home/group3/group3/Finalized/helper.py:18: FutureWarning: 'M' is deprecated and will be removed in a future version, please use 'ME' instead.\n",
      "  col_avg = df[['ticker',col]].groupby('ticker').resample('M').agg(\n",
      "/home/group3/group3/Finalized/helper.py:18: FutureWarning: 'M' is deprecated and will be removed in a future version, please use 'ME' instead.\n",
      "  col_avg = df[['ticker',col]].groupby('ticker').resample('M').agg(\n",
      "/home/group3/group3/Finalized/helper.py:18: FutureWarning: 'M' is deprecated and will be removed in a future version, please use 'ME' instead.\n",
      "  col_avg = df[['ticker',col]].groupby('ticker').resample('M').agg(\n",
      "/home/group3/group3/Finalized/helper.py:18: FutureWarning: 'M' is deprecated and will be removed in a future version, please use 'ME' instead.\n",
      "  col_avg = df[['ticker',col]].groupby('ticker').resample('M').agg(\n",
      "/home/group3/group3/Finalized/helper.py:18: FutureWarning: 'M' is deprecated and will be removed in a future version, please use 'ME' instead.\n",
      "  col_avg = df[['ticker',col]].groupby('ticker').resample('M').agg(\n",
      "/home/group3/group3/Finalized/helper.py:18: FutureWarning: 'M' is deprecated and will be removed in a future version, please use 'ME' instead.\n",
      "  col_avg = df[['ticker',col]].groupby('ticker').resample('M').agg(\n",
      "/home/group3/group3/Finalized/helper.py:18: FutureWarning: 'M' is deprecated and will be removed in a future version, please use 'ME' instead.\n",
      "  col_avg = df[['ticker',col]].groupby('ticker').resample('M').agg(\n"
     ]
    }
   ],
   "source": [
    "helpful_df = get_rolling_ratings_ret_df(helpful)"
   ]
  },
  {
   "cell_type": "code",
   "execution_count": 5,
   "metadata": {},
   "outputs": [],
   "source": [
    "helpful_df.to_csv('helpful_OLS.csv',index=False)"
   ]
  },
  {
   "cell_type": "markdown",
   "metadata": {},
   "source": [
    "### 3. CEO Approval"
   ]
  },
  {
   "cell_type": "code",
   "execution_count": 9,
   "metadata": {},
   "outputs": [],
   "source": [
    "ceo_approved = glassd_classification[glassd_classification['ratingCeo']=='APPROVE']\n",
    "ceo_notapproved = glassd_classification[glassd_classification['ratingCeo']=='DISAPPROVE']"
   ]
  },
  {
   "cell_type": "code",
   "execution_count": 10,
   "metadata": {},
   "outputs": [
    {
     "name": "stderr",
     "output_type": "stream",
     "text": [
      "/home/group3/group3/Finalized/helper.py:18: FutureWarning: 'M' is deprecated and will be removed in a future version, please use 'ME' instead.\n",
      "  col_avg = df[['ticker',col]].groupby('ticker').resample('M').agg(\n",
      "/home/group3/group3/Finalized/helper.py:18: FutureWarning: 'M' is deprecated and will be removed in a future version, please use 'ME' instead.\n",
      "  col_avg = df[['ticker',col]].groupby('ticker').resample('M').agg(\n",
      "/home/group3/group3/Finalized/helper.py:18: FutureWarning: 'M' is deprecated and will be removed in a future version, please use 'ME' instead.\n",
      "  col_avg = df[['ticker',col]].groupby('ticker').resample('M').agg(\n",
      "/home/group3/group3/Finalized/helper.py:18: FutureWarning: 'M' is deprecated and will be removed in a future version, please use 'ME' instead.\n",
      "  col_avg = df[['ticker',col]].groupby('ticker').resample('M').agg(\n",
      "/home/group3/group3/Finalized/helper.py:18: FutureWarning: 'M' is deprecated and will be removed in a future version, please use 'ME' instead.\n",
      "  col_avg = df[['ticker',col]].groupby('ticker').resample('M').agg(\n",
      "/home/group3/group3/Finalized/helper.py:18: FutureWarning: 'M' is deprecated and will be removed in a future version, please use 'ME' instead.\n",
      "  col_avg = df[['ticker',col]].groupby('ticker').resample('M').agg(\n",
      "/home/group3/group3/Finalized/helper.py:18: FutureWarning: 'M' is deprecated and will be removed in a future version, please use 'ME' instead.\n",
      "  col_avg = df[['ticker',col]].groupby('ticker').resample('M').agg(\n"
     ]
    }
   ],
   "source": [
    "employed_rolling_df = get_rolling_ratings_ret_df(ceo_approved)"
   ]
  },
  {
   "cell_type": "code",
   "execution_count": 11,
   "metadata": {},
   "outputs": [
    {
     "name": "stderr",
     "output_type": "stream",
     "text": [
      "/home/group3/group3/Finalized/helper.py:18: FutureWarning: 'M' is deprecated and will be removed in a future version, please use 'ME' instead.\n",
      "  col_avg = df[['ticker',col]].groupby('ticker').resample('M').agg(\n",
      "/home/group3/group3/Finalized/helper.py:18: FutureWarning: 'M' is deprecated and will be removed in a future version, please use 'ME' instead.\n",
      "  col_avg = df[['ticker',col]].groupby('ticker').resample('M').agg(\n",
      "/home/group3/group3/Finalized/helper.py:18: FutureWarning: 'M' is deprecated and will be removed in a future version, please use 'ME' instead.\n",
      "  col_avg = df[['ticker',col]].groupby('ticker').resample('M').agg(\n",
      "/home/group3/group3/Finalized/helper.py:18: FutureWarning: 'M' is deprecated and will be removed in a future version, please use 'ME' instead.\n",
      "  col_avg = df[['ticker',col]].groupby('ticker').resample('M').agg(\n",
      "/home/group3/group3/Finalized/helper.py:18: FutureWarning: 'M' is deprecated and will be removed in a future version, please use 'ME' instead.\n",
      "  col_avg = df[['ticker',col]].groupby('ticker').resample('M').agg(\n",
      "/home/group3/group3/Finalized/helper.py:18: FutureWarning: 'M' is deprecated and will be removed in a future version, please use 'ME' instead.\n",
      "  col_avg = df[['ticker',col]].groupby('ticker').resample('M').agg(\n",
      "/home/group3/group3/Finalized/helper.py:18: FutureWarning: 'M' is deprecated and will be removed in a future version, please use 'ME' instead.\n",
      "  col_avg = df[['ticker',col]].groupby('ticker').resample('M').agg(\n"
     ]
    }
   ],
   "source": [
    "ceo_notapproved_rolling_df = get_rolling_ratings_ret_df(ceo_notapproved)"
   ]
  },
  {
   "cell_type": "code",
   "execution_count": 12,
   "metadata": {},
   "outputs": [],
   "source": [
    "# employed_rolling_df.to_csv('ceo_approval.csv',index=False)\n",
    "# ceo_notapproved_rolling_df.to_csv('ceo_disapproval.csv',index=False)"
   ]
  }
 ],
 "metadata": {
  "kernelspec": {
   "display_name": "Python 3 (ipykernel)",
   "language": "python",
   "name": "python3"
  },
  "language_info": {
   "codemirror_mode": {
    "name": "ipython",
    "version": 3
   },
   "file_extension": ".py",
   "mimetype": "text/x-python",
   "name": "python",
   "nbconvert_exporter": "python",
   "pygments_lexer": "ipython3",
   "version": "3.11.5"
  }
 },
 "nbformat": 4,
 "nbformat_minor": 4
}
