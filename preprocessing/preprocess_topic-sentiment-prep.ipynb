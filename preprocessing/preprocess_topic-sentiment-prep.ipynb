{
 "cells": [
  {
   "cell_type": "code",
   "execution_count": 1,
   "metadata": {},
   "outputs": [],
   "source": [
    "import pandas as pd"
   ]
  },
  {
   "cell_type": "code",
   "execution_count": 2,
   "metadata": {},
   "outputs": [],
   "source": [
    "pd.set_option('display.max_colwidth', None)"
   ]
  },
  {
   "cell_type": "code",
   "execution_count": 3,
   "metadata": {},
   "outputs": [],
   "source": [
    "# df = pd.read_pickle(\"forNLP_2020-2023_2024-10-21.pkl\")\n",
    "# df.reset_index(inplace=True, drop=True)\n",
    "# df.head(1)"
   ]
  },
  {
   "cell_type": "code",
   "execution_count": 4,
   "metadata": {},
   "outputs": [
    {
     "data": {
      "text/html": [
       "<div>\n",
       "<style scoped>\n",
       "    .dataframe tbody tr th:only-of-type {\n",
       "        vertical-align: middle;\n",
       "    }\n",
       "\n",
       "    .dataframe tbody tr th {\n",
       "        vertical-align: top;\n",
       "    }\n",
       "\n",
       "    .dataframe thead th {\n",
       "        text-align: right;\n",
       "    }\n",
       "</style>\n",
       "<table border=\"1\" class=\"dataframe\">\n",
       "  <thead>\n",
       "    <tr style=\"text-align: right;\">\n",
       "      <th></th>\n",
       "      <th>glassdoorId</th>\n",
       "      <th>revenue</th>\n",
       "      <th>size</th>\n",
       "      <th>industryName</th>\n",
       "      <th>reviewcount</th>\n",
       "      <th>summary</th>\n",
       "      <th>pros</th>\n",
       "      <th>cons</th>\n",
       "      <th>advice</th>\n",
       "      <th>reviewDateTime</th>\n",
       "      <th>ratingOverall</th>\n",
       "      <th>ticker</th>\n",
       "      <th>jobtitle</th>\n",
       "    </tr>\n",
       "  </thead>\n",
       "  <tbody>\n",
       "    <tr>\n",
       "      <th>0</th>\n",
       "      <td>2213</td>\n",
       "      <td>$500 million to $1 billion (USD)</td>\n",
       "      <td>1001 to 5000 Employees</td>\n",
       "      <td>Healthcare Services &amp; Hospitals</td>\n",
       "      <td>628</td>\n",
       "      <td>Good Pay! Opportunities If You Can Travel</td>\n",
       "      <td>-Great Team\\r\\n-Good Work Environment\\r\\n-Good Training</td>\n",
       "      <td>-Opportunities can be sparse if you aren\\'t willing to relocate\\r\\n-Can be stressful in high volume periods</td>\n",
       "      <td>None</td>\n",
       "      <td>2020-01-20 21:37:30</td>\n",
       "      <td>4</td>\n",
       "      <td>AGTI</td>\n",
       "      <td>Hospital Service Technician</td>\n",
       "    </tr>\n",
       "  </tbody>\n",
       "</table>\n",
       "</div>"
      ],
      "text/plain": [
       "   glassdoorId                           revenue                    size  \\\n",
       "0         2213  $500 million to $1 billion (USD)  1001 to 5000 Employees   \n",
       "\n",
       "                      industryName  reviewcount  \\\n",
       "0  Healthcare Services & Hospitals          628   \n",
       "\n",
       "                                     summary  \\\n",
       "0  Good Pay! Opportunities If You Can Travel   \n",
       "\n",
       "                                                      pros  \\\n",
       "0  -Great Team\\r\\n-Good Work Environment\\r\\n-Good Training   \n",
       "\n",
       "                                                                                                          cons  \\\n",
       "0  -Opportunities can be sparse if you aren\\'t willing to relocate\\r\\n-Can be stressful in high volume periods   \n",
       "\n",
       "  advice      reviewDateTime  ratingOverall ticker  \\\n",
       "0   None 2020-01-20 21:37:30              4   AGTI   \n",
       "\n",
       "                      jobtitle  \n",
       "0  Hospital Service Technician  "
      ]
     },
     "execution_count": 4,
     "metadata": {},
     "output_type": "execute_result"
    }
   ],
   "source": [
    "df = pd.read_parquet(\"forNLP_2020-2023_2024-10-21.parquet\")\n",
    "df.reset_index(inplace=True, drop=True)\n",
    "df.head(1)"
   ]
  },
  {
   "cell_type": "code",
   "execution_count": 5,
   "metadata": {},
   "outputs": [
    {
     "data": {
      "text/html": [
       "<div>\n",
       "<style scoped>\n",
       "    .dataframe tbody tr th:only-of-type {\n",
       "        vertical-align: middle;\n",
       "    }\n",
       "\n",
       "    .dataframe tbody tr th {\n",
       "        vertical-align: top;\n",
       "    }\n",
       "\n",
       "    .dataframe thead th {\n",
       "        text-align: right;\n",
       "    }\n",
       "</style>\n",
       "<table border=\"1\" class=\"dataframe\">\n",
       "  <thead>\n",
       "    <tr style=\"text-align: right;\">\n",
       "      <th></th>\n",
       "      <th>glassdoorId</th>\n",
       "      <th>revenue</th>\n",
       "      <th>size</th>\n",
       "      <th>industryName</th>\n",
       "      <th>reviewcount</th>\n",
       "      <th>summary</th>\n",
       "      <th>pros</th>\n",
       "      <th>cons</th>\n",
       "      <th>advice</th>\n",
       "      <th>reviewDateTime</th>\n",
       "      <th>ratingOverall</th>\n",
       "      <th>ticker</th>\n",
       "      <th>jobtitle</th>\n",
       "      <th>index</th>\n",
       "    </tr>\n",
       "  </thead>\n",
       "  <tbody>\n",
       "    <tr>\n",
       "      <th>0</th>\n",
       "      <td>2213</td>\n",
       "      <td>$500 million to $1 billion (USD)</td>\n",
       "      <td>1001 to 5000 Employees</td>\n",
       "      <td>Healthcare Services &amp; Hospitals</td>\n",
       "      <td>628</td>\n",
       "      <td>Good Pay! Opportunities If You Can Travel</td>\n",
       "      <td>-Great Team\\r\\n-Good Work Environment\\r\\n-Good Training</td>\n",
       "      <td>-Opportunities can be sparse if you aren\\'t willing to relocate\\r\\n-Can be stressful in high volume periods</td>\n",
       "      <td>None</td>\n",
       "      <td>2020-01-20 21:37:30</td>\n",
       "      <td>4</td>\n",
       "      <td>AGTI</td>\n",
       "      <td>Hospital Service Technician</td>\n",
       "      <td>0</td>\n",
       "    </tr>\n",
       "    <tr>\n",
       "      <th>1</th>\n",
       "      <td>2213</td>\n",
       "      <td>$500 million to $1 billion (USD)</td>\n",
       "      <td>1001 to 5000 Employees</td>\n",
       "      <td>Healthcare Services &amp; Hospitals</td>\n",
       "      <td>628</td>\n",
       "      <td>Amazing job</td>\n",
       "      <td>Great job to work for</td>\n",
       "      <td>There are no cons at all</td>\n",
       "      <td>None</td>\n",
       "      <td>2020-01-30 09:54:55</td>\n",
       "      <td>5</td>\n",
       "      <td>AGTI</td>\n",
       "      <td>Cst</td>\n",
       "      <td>1</td>\n",
       "    </tr>\n",
       "    <tr>\n",
       "      <th>2</th>\n",
       "      <td>2213</td>\n",
       "      <td>$500 million to $1 billion (USD)</td>\n",
       "      <td>1001 to 5000 Employees</td>\n",
       "      <td>Healthcare Services &amp; Hospitals</td>\n",
       "      <td>628</td>\n",
       "      <td>Just wanted to Leave</td>\n",
       "      <td>Being able to work a job, even if it\\'s the lowest paid for your career across the country. A good place to get your foot into the healthcare field for about a year or less, to make connections, and leave. Medical insurance deductibles are outrageously high compared to other companies, lowest being (4500)</td>\n",
       "      <td>Lowest paid median salary across all boards of careers, micromanaging, inexperienced leadership leading to very low morale, doesn\\'t uphold it\\'s \\'core values\\'. Dreading the work-day everyday you goto work.</td>\n",
       "      <td>When a management team just keeps promoting within itself due to just being best friends outside of work (Fraternization) it can lead to some problems that were unforseen but rather the upper management team will ignore. When a manager gets to tell you that work matters more than your family in the Emergency Room or the deaths of family members. This is also when the lower management gets free reign to do whatever they want, such as making their own company policies and using favoritism to restrict the work-flow specific employees to force them to leave the company, rather than giving them the tools to success. Management needs to be reviewed, and I still have all the hard-copy proof in relation to this.</td>\n",
       "      <td>2020-03-04 15:12:03</td>\n",
       "      <td>1</td>\n",
       "      <td>AGTI</td>\n",
       "      <td>Biomedical Technician I</td>\n",
       "      <td>2</td>\n",
       "    </tr>\n",
       "  </tbody>\n",
       "</table>\n",
       "</div>"
      ],
      "text/plain": [
       "   glassdoorId                           revenue                    size  \\\n",
       "0         2213  $500 million to $1 billion (USD)  1001 to 5000 Employees   \n",
       "1         2213  $500 million to $1 billion (USD)  1001 to 5000 Employees   \n",
       "2         2213  $500 million to $1 billion (USD)  1001 to 5000 Employees   \n",
       "\n",
       "                      industryName  reviewcount  \\\n",
       "0  Healthcare Services & Hospitals          628   \n",
       "1  Healthcare Services & Hospitals          628   \n",
       "2  Healthcare Services & Hospitals          628   \n",
       "\n",
       "                                     summary  \\\n",
       "0  Good Pay! Opportunities If You Can Travel   \n",
       "1                                Amazing job   \n",
       "2                       Just wanted to Leave   \n",
       "\n",
       "                                                                                                                                                                                                                                                                                                                 pros  \\\n",
       "0                                                                                                                                                                                                                                                             -Great Team\\r\\n-Good Work Environment\\r\\n-Good Training   \n",
       "1                                                                                                                                                                                                                                                                                               Great job to work for   \n",
       "2  Being able to work a job, even if it\\'s the lowest paid for your career across the country. A good place to get your foot into the healthcare field for about a year or less, to make connections, and leave. Medical insurance deductibles are outrageously high compared to other companies, lowest being (4500)   \n",
       "\n",
       "                                                                                                                                                                                                               cons  \\\n",
       "0                                                                                                       -Opportunities can be sparse if you aren\\'t willing to relocate\\r\\n-Can be stressful in high volume periods   \n",
       "1                                                                                                                                                                                          There are no cons at all   \n",
       "2  Lowest paid median salary across all boards of careers, micromanaging, inexperienced leadership leading to very low morale, doesn\\'t uphold it\\'s \\'core values\\'. Dreading the work-day everyday you goto work.   \n",
       "\n",
       "                                                                                                                                                                                                                                                                                                                                                                                                                                                                                                                                                                                                                                                                                                                                      advice  \\\n",
       "0                                                                                                                                                                                                                                                                                                                                                                                                                                                                                                                                                                                                                                                                                                                                       None   \n",
       "1                                                                                                                                                                                                                                                                                                                                                                                                                                                                                                                                                                                                                                                                                                                                       None   \n",
       "2  When a management team just keeps promoting within itself due to just being best friends outside of work (Fraternization) it can lead to some problems that were unforseen but rather the upper management team will ignore. When a manager gets to tell you that work matters more than your family in the Emergency Room or the deaths of family members. This is also when the lower management gets free reign to do whatever they want, such as making their own company policies and using favoritism to restrict the work-flow specific employees to force them to leave the company, rather than giving them the tools to success. Management needs to be reviewed, and I still have all the hard-copy proof in relation to this.   \n",
       "\n",
       "       reviewDateTime  ratingOverall ticker                     jobtitle  \\\n",
       "0 2020-01-20 21:37:30              4   AGTI  Hospital Service Technician   \n",
       "1 2020-01-30 09:54:55              5   AGTI                          Cst   \n",
       "2 2020-03-04 15:12:03              1   AGTI      Biomedical Technician I   \n",
       "\n",
       "   index  \n",
       "0      0  \n",
       "1      1  \n",
       "2      2  "
      ]
     },
     "execution_count": 5,
     "metadata": {},
     "output_type": "execute_result"
    }
   ],
   "source": [
    "df['index'] = range(len(df))\n",
    "df.head(3)"
   ]
  },
  {
   "cell_type": "code",
   "execution_count": 6,
   "metadata": {},
   "outputs": [],
   "source": [
    "# Save the DataFrame as a JSON file\n",
    "df.to_json(\"indexed_NLP.json\", orient='records', lines=True)"
   ]
  },
  {
   "cell_type": "code",
   "execution_count": 7,
   "metadata": {},
   "outputs": [
    {
     "data": {
      "text/plain": [
       "(61451, 14)"
      ]
     },
     "execution_count": 7,
     "metadata": {},
     "output_type": "execute_result"
    }
   ],
   "source": [
    "df.shape"
   ]
  },
  {
   "cell_type": "code",
   "execution_count": 8,
   "metadata": {},
   "outputs": [],
   "source": [
    "## prepare to export text reviews from server for NLP process\n",
    "text_reviews_keys = ['index', 'summary', 'pros', 'cons', 'advice', 'ticker']\n",
    "\n",
    "text_reviews = dict()\n",
    "for i in text_reviews_keys:\n",
    "    text_reviews[i] = df[i].to_list()"
   ]
  },
  {
   "cell_type": "code",
   "execution_count": 9,
   "metadata": {},
   "outputs": [],
   "source": [
    "## Export text reviews with \n",
    "\n",
    "import json\n",
    "\n",
    "# Convert to JSON\n",
    "json_data = json.dumps(text_reviews, indent=4)\n",
    "\n",
    "# Save to a file\n",
    "with open('text_reviews.json', 'w') as file:\n",
    "    file.write(json_data)"
   ]
  },
  {
   "cell_type": "code",
   "execution_count": 10,
   "metadata": {},
   "outputs": [],
   "source": [
    "# print(text_reviews)"
   ]
  },
  {
   "cell_type": "code",
   "execution_count": null,
   "metadata": {},
   "outputs": [],
   "source": []
  }
 ],
 "metadata": {
  "kernelspec": {
   "display_name": "env2",
   "language": "python",
   "name": "python3"
  },
  "language_info": {
   "codemirror_mode": {
    "name": "ipython",
    "version": 3
   },
   "file_extension": ".py",
   "mimetype": "text/x-python",
   "name": "python",
   "nbconvert_exporter": "python",
   "pygments_lexer": "ipython3",
   "version": "3.10.9"
  }
 },
 "nbformat": 4,
 "nbformat_minor": 2
}
