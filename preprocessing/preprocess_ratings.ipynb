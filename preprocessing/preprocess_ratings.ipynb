{
 "cells": [
  {
   "cell_type": "code",
   "execution_count": 1,
   "metadata": {},
   "outputs": [],
   "source": [
    "import pandas as pd\n",
    "import matplotlib.pyplot as plt\n",
    "import seaborn as sns"
   ]
  },
  {
   "cell_type": "code",
   "execution_count": 2,
   "metadata": {},
   "outputs": [],
   "source": [
    "company = pd.read_parquet('/home/group3/group3/Finalized/data/company_overview_cleaned.parquet')\n",
    "glassd_classification = pd.read_parquet('/home/group3/group3/Finalized/data/glassd_classification_cleaned.parquet')\n",
    "text = pd.read_parquet('/home/group3/glassdoor/glassd_review_internal_data_2024-03-19.parquet')\n",
    "stock_monthly = pd.read_csv('/home/group3/group3/Finalized/data/stock_monthly.csv')\n",
    "stock_monthly['date'] = pd.to_datetime(stock_monthly['date'])\n",
    "rolling_ret = pd.read_csv('/home/group3/group3/Finalized/data/rolling_future_ret.csv')\n",
    "rolling_ret['date'] = pd.to_datetime(rolling_ret['date'])\n",
    "rolling_ratings = pd.read_csv('/home/group3/group3/Finalized/data/rolling_period_ratings_stats.csv')\n",
    "rolling_ratings['reviewDateTime'] = pd.to_datetime(rolling_ratings['reviewDateTime'])\n",
    "rolling_ret_rating = pd.merge(rolling_ratings,rolling_ret, left_on=['ticker','reviewDateTime'], right_on=['ticker','date'])"
   ]
  },
  {
   "cell_type": "code",
   "execution_count": 3,
   "metadata": {},
   "outputs": [
    {
     "name": "stdout",
     "output_type": "stream",
     "text": [
      "(3503784, 20)\n"
     ]
    },
    {
     "data": {
      "text/plain": [
       "reviewId                               0\n",
       "glassdoorId                            0\n",
       "reviewDateTime                         0\n",
       "isCurrentJob                     1471135\n",
       "lengthOfEmployment               1404271\n",
       "jobtitle_ref                           0\n",
       "location_ref                           0\n",
       "ratingOverall                          0\n",
       "ratingCareerOpportunities         667759\n",
       "ratingCompensationAndBenefits     676307\n",
       "ratingCultureAndValues            810225\n",
       "ratingSeniorLeadership            712216\n",
       "ratingWorkLifeBalance             684807\n",
       "ratingDiversityAndInclusion      2171646\n",
       "ratingBusinessOutlook                  0\n",
       "ratingCeo                              0\n",
       "ratingRecommendToFriend                0\n",
       "countHelpful                     2740122\n",
       "countNotHelpful                  3458143\n",
       "ticker                                 0\n",
       "dtype: int64"
      ]
     },
     "execution_count": 3,
     "metadata": {},
     "output_type": "execute_result"
    }
   ],
   "source": [
    "ret_filters = stock_monthly['ticker'].unique()\n",
    "glassd_classification = glassd_classification[glassd_classification['ticker'].isin(ret_filters)]\n",
    "print(glassd_classification.shape)\n",
    "(glassd_classification == 0).sum()"
   ]
  },
  {
   "cell_type": "code",
   "execution_count": 4,
   "metadata": {},
   "outputs": [],
   "source": [
    "glassd_classification['reviewDateTime']=pd.to_datetime(glassd_classification['reviewDateTime'])\n",
    "glassd_classification.set_index('reviewDateTime',inplace=True,drop=True)"
   ]
  },
  {
   "cell_type": "markdown",
   "metadata": {},
   "source": [
    "# Review Counts"
   ]
  },
  {
   "cell_type": "code",
   "execution_count": 5,
   "metadata": {},
   "outputs": [
    {
     "name": "stderr",
     "output_type": "stream",
     "text": [
      "/tmp/ipykernel_3068277/3514701646.py:1: FutureWarning: 'M' is deprecated and will be removed in a future version, please use 'ME' instead.\n",
      "  monthly_review_count = glassd_classification[['reviewId','ticker']].groupby('ticker').resample('M').count()\n"
     ]
    }
   ],
   "source": [
    "monthly_review_count = glassd_classification[['reviewId','ticker']].groupby('ticker').resample('M').count()\n",
    "avg_monthly_review_count = monthly_review_count['reviewId'].reset_index()[['ticker','reviewId']].groupby('ticker').mean()\n",
    "avg_monthly_review_count = avg_monthly_review_count.sort_values('reviewId')\n",
    "month_g1 = avg_monthly_review_count[avg_monthly_review_count['reviewId']>1]\n",
    "month_g10 = avg_monthly_review_count[avg_monthly_review_count['reviewId']>10]\n",
    "\n",
    "quarterly_review_count = glassd_classification[['reviewId','ticker']].groupby('ticker').resample('Q').count()\n",
    "avg_quarterly_review_count = quarterly_review_count['reviewId'].reset_index()[['ticker','reviewId']].groupby('ticker').mean()\n",
    "avg_quarterly_review_count = avg_quarterly_review_count.sort_values('reviewId')\n",
    "\n",
    "quarter_g1 = avg_quarterly_review_count[avg_quarterly_review_count['reviewId']>1]\n",
    "quarter_g10 = avg_quarterly_review_count[avg_quarterly_review_count['reviewId']>10]\n",
    "quarter_g100 = avg_quarterly_review_count[avg_quarterly_review_count['reviewId']>100]"
   ]
  },
  {
   "cell_type": "markdown",
   "metadata": {},
   "source": [
    "# Group Portfolio by company"
   ]
  },
  {
   "cell_type": "markdown",
   "metadata": {},
   "source": [
    "### Compute dataframe"
   ]
  },
  {
   "cell_type": "code",
   "execution_count": 29,
   "metadata": {},
   "outputs": [],
   "source": [
    "# glassd_classification['Helpfulness'] = glassd_classification['countHelpful'] - glassd_classification['countNotHelpful']"
   ]
  },
  {
   "cell_type": "code",
   "execution_count": 30,
   "metadata": {},
   "outputs": [
    {
     "name": "stderr",
     "output_type": "stream",
     "text": [
      "/tmp/ipykernel_2644867/2377346022.py:1: FutureWarning: 'Y' is deprecated and will be removed in a future version, please use 'YE' instead.\n",
      "  yearly_helpfulness = glassd_classification[['ticker','Helpfulness']].groupby('ticker').resample('Y').mean().reset_index()\n"
     ]
    }
   ],
   "source": [
    "# yearly_helpfulness = glassd_classification[['ticker','Helpfulness']].groupby('ticker').resample('Y').mean().reset_index()"
   ]
  },
  {
   "cell_type": "code",
   "execution_count": 31,
   "metadata": {},
   "outputs": [],
   "source": [
    "# yearly_helpfulness['year'] = yearly_helpfulness['reviewDateTime'].apply(lambda x: x.year)"
   ]
  },
  {
   "cell_type": "code",
   "execution_count": 32,
   "metadata": {},
   "outputs": [],
   "source": [
    "# yearly_helpfulness.rename(columns={'Helpfulness': 'yearavg_helpfulness'},inplace=True)\n",
    "# glassd_classification['year'] = glassd_classification.index.year\n",
    "# glassd_classification['reviewdate'] = glassd_classification.index\n",
    "# glassd_classification = pd.merge(glassd_classification, yearly_helpfulness[['year','yearavg_helpfulness','ticker']], on=['ticker', 'year'])\n",
    "# glassd_classification.index = glassd_classification['reviewdate']"
   ]
  },
  {
   "cell_type": "code",
   "execution_count": 41,
   "metadata": {},
   "outputs": [],
   "source": [
    "# month_g1_rating = glassd_classification[glassd_classification['ticker'].isin(month_g1.index)]"
   ]
  },
  {
   "cell_type": "code",
   "execution_count": 42,
   "metadata": {},
   "outputs": [],
   "source": [
    "# ratings_cols = glassd_classification.filter(like='rating').columns\n",
    "# numeric_ratings_col = ratings_cols.values[:-3]"
   ]
  },
  {
   "cell_type": "code",
   "execution_count": 68,
   "metadata": {},
   "outputs": [
    {
     "name": "stderr",
     "output_type": "stream",
     "text": [
      "/tmp/ipykernel_2644867/3318824442.py:3: FutureWarning: 'M' is deprecated and will be removed in a future version, please use 'ME' instead.\n",
      "  col_avg = glassd_classification[['ticker',col]].groupby('ticker').resample('M').apply(lambda x: x.loc[x[col]!= 0, col].mean())\n",
      "/tmp/ipykernel_2644867/3318824442.py:3: FutureWarning: 'M' is deprecated and will be removed in a future version, please use 'ME' instead.\n",
      "  col_avg = glassd_classification[['ticker',col]].groupby('ticker').resample('M').apply(lambda x: x.loc[x[col]!= 0, col].mean())\n",
      "/tmp/ipykernel_2644867/3318824442.py:3: FutureWarning: 'M' is deprecated and will be removed in a future version, please use 'ME' instead.\n",
      "  col_avg = glassd_classification[['ticker',col]].groupby('ticker').resample('M').apply(lambda x: x.loc[x[col]!= 0, col].mean())\n",
      "/tmp/ipykernel_2644867/3318824442.py:3: FutureWarning: 'M' is deprecated and will be removed in a future version, please use 'ME' instead.\n",
      "  col_avg = glassd_classification[['ticker',col]].groupby('ticker').resample('M').apply(lambda x: x.loc[x[col]!= 0, col].mean())\n",
      "/tmp/ipykernel_2644867/3318824442.py:3: FutureWarning: 'M' is deprecated and will be removed in a future version, please use 'ME' instead.\n",
      "  col_avg = glassd_classification[['ticker',col]].groupby('ticker').resample('M').apply(lambda x: x.loc[x[col]!= 0, col].mean())\n",
      "/tmp/ipykernel_2644867/3318824442.py:3: FutureWarning: 'M' is deprecated and will be removed in a future version, please use 'ME' instead.\n",
      "  col_avg = glassd_classification[['ticker',col]].groupby('ticker').resample('M').apply(lambda x: x.loc[x[col]!= 0, col].mean())\n",
      "/tmp/ipykernel_2644867/3318824442.py:3: FutureWarning: 'M' is deprecated and will be removed in a future version, please use 'ME' instead.\n",
      "  col_avg = glassd_classification[['ticker',col]].groupby('ticker').resample('M').apply(lambda x: x.loc[x[col]!= 0, col].mean())\n"
     ]
    }
   ],
   "source": [
    "# ratings_avg = pd.DataFrame()\n",
    "# for col in numeric_ratings_col:\n",
    "#     col_avg = glassd_classification[['ticker',col]].groupby('ticker').resample('M').apply(lambda x: x.loc[x[col]!= 0, col].mean())\n",
    "#     col_avg.name = col\n",
    "#     col_avg = col_avg.reset_index()\n",
    "#     ratings_avg = pd.concat([ratings_avg, col_avg[[col]]],axis=1).reset_index(drop=True)"
   ]
  },
  {
   "cell_type": "code",
   "execution_count": 80,
   "metadata": {},
   "outputs": [],
   "source": [
    "# ratings_avg2 = pd.concat([ratings_avg,col_avg[['ticker','reviewdate']]], axis=1)\n",
    "# monthly_ret_rating = pd.merge(ratings_avg2, stock_monthly, left_on=['ticker','reviewdate'], right_on=['ticker','date'])\n",
    "# monthly_ret_rating.to_csv('monthly_rating_ret.csv')"
   ]
  },
  {
   "cell_type": "code",
   "execution_count": 14,
   "metadata": {},
   "outputs": [],
   "source": [
    "# ratings_avg = pd.read_csv('/home/group3/group3/Finalized/data/monthly_rating_ret.csv',index_col=0)"
   ]
  },
  {
   "cell_type": "markdown",
   "metadata": {},
   "source": [
    "### Compute dataframe with different lookback period, not just a month"
   ]
  },
  {
   "cell_type": "code",
   "execution_count": 99,
   "metadata": {},
   "outputs": [
    {
     "name": "stderr",
     "output_type": "stream",
     "text": [
      "/tmp/ipykernel_2650216/2444861693.py:5: FutureWarning: 'M' is deprecated and will be removed in a future version, please use 'ME' instead.\n",
      "  col_avg = glassd_classification[['ticker',col]].groupby('ticker').resample('M').agg(\n",
      "/tmp/ipykernel_2650216/2444861693.py:5: FutureWarning: 'M' is deprecated and will be removed in a future version, please use 'ME' instead.\n",
      "  col_avg = glassd_classification[['ticker',col]].groupby('ticker').resample('M').agg(\n",
      "/tmp/ipykernel_2650216/2444861693.py:5: FutureWarning: 'M' is deprecated and will be removed in a future version, please use 'ME' instead.\n",
      "  col_avg = glassd_classification[['ticker',col]].groupby('ticker').resample('M').agg(\n",
      "/tmp/ipykernel_2650216/2444861693.py:5: FutureWarning: 'M' is deprecated and will be removed in a future version, please use 'ME' instead.\n",
      "  col_avg = glassd_classification[['ticker',col]].groupby('ticker').resample('M').agg(\n",
      "/tmp/ipykernel_2650216/2444861693.py:5: FutureWarning: 'M' is deprecated and will be removed in a future version, please use 'ME' instead.\n",
      "  col_avg = glassd_classification[['ticker',col]].groupby('ticker').resample('M').agg(\n",
      "/tmp/ipykernel_2650216/2444861693.py:5: FutureWarning: 'M' is deprecated and will be removed in a future version, please use 'ME' instead.\n",
      "  col_avg = glassd_classification[['ticker',col]].groupby('ticker').resample('M').agg(\n",
      "/tmp/ipykernel_2650216/2444861693.py:5: FutureWarning: 'M' is deprecated and will be removed in a future version, please use 'ME' instead.\n",
      "  col_avg = glassd_classification[['ticker',col]].groupby('ticker').resample('M').agg(\n"
     ]
    }
   ],
   "source": [
    "# ratings_cols = glassd_classification.filter(like='rating').columns\n",
    "# numeric_ratings_col = ratings_cols.values[:-3]\n",
    "# ratings_avg = pd.DataFrame()\n",
    "# for col in numeric_ratings_col:\n",
    "#     col_avg = glassd_classification[['ticker',col]].groupby('ticker').resample('M').agg(\n",
    "#                     total=(col, lambda x: x[x!=0].sum()),\n",
    "#                     count=(col, lambda x: x[x!=0].count())\n",
    "#     )\n",
    "#     col_avg = col_avg.reset_index()\n",
    "#     col_avg.rename(columns={'total': col+'_total', 'count': col+'_count'},inplace=True)\n",
    "#     ratings_avg = pd.concat([ratings_avg, col_avg[[col+'_total', col+'_count']]],axis=1).reset_index(drop=True)"
   ]
  },
  {
   "cell_type": "code",
   "execution_count": 15,
   "metadata": {},
   "outputs": [],
   "source": [
    "# ratings_stat = pd.concat([col_avg[['ticker','reviewDateTime']], ratings_avg],axis=1)\n",
    "\n",
    "# ratings_stat['reviewDateTime']=pd.to_datetime(ratings_stat['reviewDateTime'])\n",
    "# ratings_stat.set_index('reviewDateTime',drop=True,inplace=True)"
   ]
  },
  {
   "cell_type": "code",
   "execution_count": 32,
   "metadata": {},
   "outputs": [],
   "source": [
    "# rolling = ratings_stat.groupby('ticker').rolling(window=3).sum()\n",
    "# # rolling.drop('ticker',inplace=True)\n",
    "# rolling=rolling.add_prefix(f\"{3}_\")\n",
    "# rolling = rolling.reset_index()"
   ]
  },
  {
   "cell_type": "code",
   "execution_count": 36,
   "metadata": {},
   "outputs": [],
   "source": [
    "# rolling_df = pd.DataFrame()\n",
    "# rolling_periods = [1,3,6,9,12]\n",
    "# for i in rolling_periods:\n",
    "#     rolling = ratings_stat.groupby('ticker').rolling(window=i).sum()\n",
    "#     rolling = rolling.add_prefix(f\"{i}_\")\n",
    "#     rolling = rolling.reset_index()\n",
    "#     rolling_df = pd.concat([rolling_df,rolling.drop(['ticker','reviewDateTime'],axis=1)],axis=1)\n",
    "\n",
    "# rolling_df = pd.concat([rolling[['ticker','reviewDateTime']],rolling_df],axis=1)"
   ]
  },
  {
   "cell_type": "code",
   "execution_count": 46,
   "metadata": {},
   "outputs": [],
   "source": [
    "# for i in rolling_periods:\n",
    "#     for col in numeric_ratings_col:\n",
    "#         rolling_df[f\"{i}_{col}_mean\"] = rolling_df[f\"{i}_{col}_total\"]/rolling_df[f\"{i}_{col}_count\"]\n"
   ]
  },
  {
   "cell_type": "code",
   "execution_count": 48,
   "metadata": {},
   "outputs": [],
   "source": [
    "# rolling_df.to_csv('rolling_period_ratings_stats.csv',index=False)"
   ]
  },
  {
   "cell_type": "code",
   "execution_count": 49,
   "metadata": {},
   "outputs": [],
   "source": [
    "rolling_df = pd.read_csv('/home/group3/group3/Finalized/data/rolling_period_ratings_stats.csv')"
   ]
  },
  {
   "cell_type": "markdown",
   "metadata": {},
   "source": [
    "### Plain monthly ratings analysis"
   ]
  },
  {
   "cell_type": "code",
   "execution_count": 7,
   "metadata": {},
   "outputs": [],
   "source": [
    "monthly_rating_ret = pd.read_csv('/home/group3/group3/Finalized/data/monthly_rating_ret.csv',index_col=0)"
   ]
  },
  {
   "cell_type": "code",
   "execution_count": 20,
   "metadata": {},
   "outputs": [],
   "source": [
    "monthly_rating_ret['ret']  = monthly_rating_ret['ret']-1"
   ]
  },
  {
   "cell_type": "code",
   "execution_count": 22,
   "metadata": {},
   "outputs": [],
   "source": [
    "overall_rating = monthly_rating_ret[['ratingOverall','reviewdate','ticker','ret']]"
   ]
  },
  {
   "cell_type": "code",
   "execution_count": 27,
   "metadata": {},
   "outputs": [],
   "source": [
    "q100_ratingoverall = overall_rating[overall_rating['ticker'].isin(quarter_g100.index)]"
   ]
  },
  {
   "cell_type": "code",
   "execution_count": 36,
   "metadata": {},
   "outputs": [
    {
     "name": "stderr",
     "output_type": "stream",
     "text": [
      "/tmp/ipykernel_2650216/2473432225.py:1: DeprecationWarning: DataFrameGroupBy.apply operated on the grouping columns. This behavior is deprecated, and in a future version of pandas the grouping columns will be excluded from the operation. Either pass `include_groups=False` to exclude the groupings or explicitly select the grouping columns after groupby to silence this warning.\n",
      "  month_rating_diff = q100_ratingoverall.groupby('ticker').apply(lambda x: x['ratingOverall'] - x['ratingOverall'].shift(1)).reset_index()['ratingOverall']\n"
     ]
    }
   ],
   "source": [
    "month_rating_diff = q100_ratingoverall.groupby('ticker').apply(lambda x: x['ratingOverall'] - x['ratingOverall'].shift(1)).reset_index()['ratingOverall']"
   ]
  },
  {
   "cell_type": "code",
   "execution_count": 41,
   "metadata": {},
   "outputs": [],
   "source": [
    "q100_ratingoverall.reset_index(drop=True,inplace=True)"
   ]
  },
  {
   "cell_type": "code",
   "execution_count": 42,
   "metadata": {},
   "outputs": [
    {
     "name": "stderr",
     "output_type": "stream",
     "text": [
      "/tmp/ipykernel_2650216/993465309.py:1: SettingWithCopyWarning: \n",
      "A value is trying to be set on a copy of a slice from a DataFrame.\n",
      "Try using .loc[row_indexer,col_indexer] = value instead\n",
      "\n",
      "See the caveats in the documentation: https://pandas.pydata.org/pandas-docs/stable/user_guide/indexing.html#returning-a-view-versus-a-copy\n",
      "  q100_ratingoverall['month_rating_diff'] = month_rating_diff\n"
     ]
    }
   ],
   "source": [
    "q100_ratingoverall['month_rating_diff'] = month_rating_diff\n",
    "q100_ratingoverall['ret_next_month'] = q100_ratingoverall.groupby('ticker').apply(lambda x: x['ret'].shift(-1)).reset_index()['ret']"
   ]
  },
  {
   "cell_type": "code",
   "execution_count": 50,
   "metadata": {},
   "outputs": [
    {
     "data": {
      "text/html": [
       "<div>\n",
       "<style scoped>\n",
       "    .dataframe tbody tr th:only-of-type {\n",
       "        vertical-align: middle;\n",
       "    }\n",
       "\n",
       "    .dataframe tbody tr th {\n",
       "        vertical-align: top;\n",
       "    }\n",
       "\n",
       "    .dataframe thead th {\n",
       "        text-align: right;\n",
       "    }\n",
       "</style>\n",
       "<table border=\"1\" class=\"dataframe\">\n",
       "  <thead>\n",
       "    <tr style=\"text-align: right;\">\n",
       "      <th></th>\n",
       "      <th>ratingOverall</th>\n",
       "      <th>reviewdate</th>\n",
       "      <th>ticker</th>\n",
       "      <th>ret</th>\n",
       "      <th>month_rating_diff</th>\n",
       "      <th>ret_next_month</th>\n",
       "    </tr>\n",
       "  </thead>\n",
       "  <tbody>\n",
       "    <tr>\n",
       "      <th>0</th>\n",
       "      <td>3.187500</td>\n",
       "      <td>2013-12-31</td>\n",
       "      <td>AAL</td>\n",
       "      <td>0.026424</td>\n",
       "      <td>NaN</td>\n",
       "      <td>0.328717</td>\n",
       "    </tr>\n",
       "    <tr>\n",
       "      <th>1</th>\n",
       "      <td>2.928571</td>\n",
       "      <td>2014-01-31</td>\n",
       "      <td>AAL</td>\n",
       "      <td>0.328717</td>\n",
       "      <td>-0.258929</td>\n",
       "      <td>0.100746</td>\n",
       "    </tr>\n",
       "    <tr>\n",
       "      <th>2</th>\n",
       "      <td>2.947368</td>\n",
       "      <td>2014-02-28</td>\n",
       "      <td>AAL</td>\n",
       "      <td>0.100746</td>\n",
       "      <td>0.018797</td>\n",
       "      <td>-0.008938</td>\n",
       "    </tr>\n",
       "    <tr>\n",
       "      <th>3</th>\n",
       "      <td>3.391304</td>\n",
       "      <td>2014-03-31</td>\n",
       "      <td>AAL</td>\n",
       "      <td>-0.008938</td>\n",
       "      <td>0.443936</td>\n",
       "      <td>-0.041803</td>\n",
       "    </tr>\n",
       "    <tr>\n",
       "      <th>4</th>\n",
       "      <td>3.300000</td>\n",
       "      <td>2014-04-30</td>\n",
       "      <td>AAL</td>\n",
       "      <td>-0.041803</td>\n",
       "      <td>-0.091304</td>\n",
       "      <td>0.145137</td>\n",
       "    </tr>\n",
       "    <tr>\n",
       "      <th>...</th>\n",
       "      <td>...</td>\n",
       "      <td>...</td>\n",
       "      <td>...</td>\n",
       "      <td>...</td>\n",
       "      <td>...</td>\n",
       "      <td>...</td>\n",
       "    </tr>\n",
       "    <tr>\n",
       "      <th>19522</th>\n",
       "      <td>3.478261</td>\n",
       "      <td>2022-08-31</td>\n",
       "      <td>XRX</td>\n",
       "      <td>-0.029772</td>\n",
       "      <td>0.641052</td>\n",
       "      <td>-0.198347</td>\n",
       "    </tr>\n",
       "    <tr>\n",
       "      <th>19523</th>\n",
       "      <td>3.300000</td>\n",
       "      <td>2022-09-30</td>\n",
       "      <td>XRX</td>\n",
       "      <td>-0.198347</td>\n",
       "      <td>-0.178261</td>\n",
       "      <td>0.118502</td>\n",
       "    </tr>\n",
       "    <tr>\n",
       "      <th>19524</th>\n",
       "      <td>2.972222</td>\n",
       "      <td>2022-10-31</td>\n",
       "      <td>XRX</td>\n",
       "      <td>0.118502</td>\n",
       "      <td>-0.327778</td>\n",
       "      <td>0.114835</td>\n",
       "    </tr>\n",
       "    <tr>\n",
       "      <th>19525</th>\n",
       "      <td>3.142857</td>\n",
       "      <td>2022-11-30</td>\n",
       "      <td>XRX</td>\n",
       "      <td>0.114835</td>\n",
       "      <td>0.170635</td>\n",
       "      <td>-0.089400</td>\n",
       "    </tr>\n",
       "    <tr>\n",
       "      <th>19526</th>\n",
       "      <td>3.200000</td>\n",
       "      <td>2022-12-31</td>\n",
       "      <td>XRX</td>\n",
       "      <td>-0.089400</td>\n",
       "      <td>0.057143</td>\n",
       "      <td>NaN</td>\n",
       "    </tr>\n",
       "  </tbody>\n",
       "</table>\n",
       "<p>19527 rows × 6 columns</p>\n",
       "</div>"
      ],
      "text/plain": [
       "       ratingOverall  reviewdate ticker       ret  month_rating_diff  \\\n",
       "0           3.187500  2013-12-31    AAL  0.026424                NaN   \n",
       "1           2.928571  2014-01-31    AAL  0.328717          -0.258929   \n",
       "2           2.947368  2014-02-28    AAL  0.100746           0.018797   \n",
       "3           3.391304  2014-03-31    AAL -0.008938           0.443936   \n",
       "4           3.300000  2014-04-30    AAL -0.041803          -0.091304   \n",
       "...              ...         ...    ...       ...                ...   \n",
       "19522       3.478261  2022-08-31    XRX -0.029772           0.641052   \n",
       "19523       3.300000  2022-09-30    XRX -0.198347          -0.178261   \n",
       "19524       2.972222  2022-10-31    XRX  0.118502          -0.327778   \n",
       "19525       3.142857  2022-11-30    XRX  0.114835           0.170635   \n",
       "19526       3.200000  2022-12-31    XRX -0.089400           0.057143   \n",
       "\n",
       "       ret_next_month  \n",
       "0            0.328717  \n",
       "1            0.100746  \n",
       "2           -0.008938  \n",
       "3           -0.041803  \n",
       "4            0.145137  \n",
       "...               ...  \n",
       "19522       -0.198347  \n",
       "19523        0.118502  \n",
       "19524        0.114835  \n",
       "19525       -0.089400  \n",
       "19526             NaN  \n",
       "\n",
       "[19527 rows x 6 columns]"
      ]
     },
     "execution_count": 50,
     "metadata": {},
     "output_type": "execute_result"
    }
   ],
   "source": [
    "q100_ratingoverall"
   ]
  },
  {
   "cell_type": "code",
   "execution_count": 57,
   "metadata": {},
   "outputs": [
    {
     "name": "stderr",
     "output_type": "stream",
     "text": [
      "/tmp/ipykernel_2650216/1688993577.py:1: SettingWithCopyWarning: \n",
      "A value is trying to be set on a copy of a slice from a DataFrame\n",
      "\n",
      "See the caveats in the documentation: https://pandas.pydata.org/pandas-docs/stable/user_guide/indexing.html#returning-a-view-versus-a-copy\n",
      "  q100_ratingoverall.drop(q100_ratingoverall[q100_ratingoverall['ret_next_month']>15].index,inplace=True)\n"
     ]
    }
   ],
   "source": [
    "q100_ratingoverall.drop(q100_ratingoverall[q100_ratingoverall['ret_next_month']>15].index,inplace=True)"
   ]
  },
  {
   "cell_type": "code",
   "execution_count": 58,
   "metadata": {},
   "outputs": [
    {
     "data": {
      "text/plain": [
       "<matplotlib.collections.PathCollection at 0x7f73f2b5edd0>"
      ]
     },
     "execution_count": 58,
     "metadata": {},
     "output_type": "execute_result"
    },
    {
     "data": {
      "image/png": "[encoded data removed]",
      "text/plain": [
       "<Figure size 640x480 with 1 Axes>"
      ]
     },
     "metadata": {},
     "output_type": "display_data"
    }
   ],
   "source": [
    "plt.scatter(q100_ratingoverall['ret_next_month'],q100_ratingoverall['month_rating_diff'])"
   ]
  },
  {
   "cell_type": "code",
   "execution_count": 65,
   "metadata": {},
   "outputs": [],
   "source": [
    "monthly_diversity = monthly_rating_ret[['ticker','reviewdate','ratingCultureAndValues', 'mcap','ret']]"
   ]
  },
  {
   "cell_type": "code",
   "execution_count": 69,
   "metadata": {},
   "outputs": [],
   "source": [
    "monthly_diversity = monthly_diversity.dropna().reset_index(drop=True)"
   ]
  },
  {
   "cell_type": "code",
   "execution_count": 72,
   "metadata": {},
   "outputs": [
    {
     "data": {
      "text/plain": [
       "[<matplotlib.lines.Line2D at 0x7f73f0474e80>]"
      ]
     },
     "execution_count": 72,
     "metadata": {},
     "output_type": "execute_result"
    },
    {
     "data": {
      "image/png": "[encoded data removed]",
      "text/plain": [
       "<Figure size 640x480 with 1 Axes>"
      ]
     },
     "metadata": {},
     "output_type": "display_data"
    }
   ],
   "source": [
    "plt.plot(monthly_diversity[monthly_diversity['ticker']=='AAPL']['ratingCultureAndValues'])"
   ]
  },
  {
   "cell_type": "code",
   "execution_count": 76,
   "metadata": {},
   "outputs": [
    {
     "data": {
      "text/html": [
       "<div>\n",
       "<style scoped>\n",
       "    .dataframe tbody tr th:only-of-type {\n",
       "        vertical-align: middle;\n",
       "    }\n",
       "\n",
       "    .dataframe tbody tr th {\n",
       "        vertical-align: top;\n",
       "    }\n",
       "\n",
       "    .dataframe thead th {\n",
       "        text-align: right;\n",
       "    }\n",
       "</style>\n",
       "<table border=\"1\" class=\"dataframe\">\n",
       "  <thead>\n",
       "    <tr style=\"text-align: right;\">\n",
       "      <th></th>\n",
       "      <th>ret</th>\n",
       "      <th>ratingCultureAndValues</th>\n",
       "    </tr>\n",
       "  </thead>\n",
       "  <tbody>\n",
       "    <tr>\n",
       "      <th>ret</th>\n",
       "      <td>1.000000</td>\n",
       "      <td>0.009108</td>\n",
       "    </tr>\n",
       "    <tr>\n",
       "      <th>ratingCultureAndValues</th>\n",
       "      <td>0.009108</td>\n",
       "      <td>1.000000</td>\n",
       "    </tr>\n",
       "  </tbody>\n",
       "</table>\n",
       "</div>"
      ],
      "text/plain": [
       "                             ret  ratingCultureAndValues\n",
       "ret                     1.000000                0.009108\n",
       "ratingCultureAndValues  0.009108                1.000000"
      ]
     },
     "execution_count": 76,
     "metadata": {},
     "output_type": "execute_result"
    }
   ],
   "source": [
    "monthly_diversity[monthly_diversity['ticker']=='AAPL'][['ret','ratingCultureAndValues']].corr()"
   ]
  },
  {
   "cell_type": "markdown",
   "metadata": {},
   "source": []
  },
  {
   "cell_type": "code",
   "execution_count": 77,
   "metadata": {},
   "outputs": [
    {
     "data": {
      "text/html": [
       "<div>\n",
       "<style scoped>\n",
       "    .dataframe tbody tr th:only-of-type {\n",
       "        vertical-align: middle;\n",
       "    }\n",
       "\n",
       "    .dataframe tbody tr th {\n",
       "        vertical-align: top;\n",
       "    }\n",
       "\n",
       "    .dataframe thead th {\n",
       "        text-align: right;\n",
       "    }\n",
       "</style>\n",
       "<table border=\"1\" class=\"dataframe\">\n",
       "  <thead>\n",
       "    <tr style=\"text-align: right;\">\n",
       "      <th></th>\n",
       "      <th>ret</th>\n",
       "      <th>ratingCultureAndValues</th>\n",
       "    </tr>\n",
       "  </thead>\n",
       "  <tbody>\n",
       "    <tr>\n",
       "      <th>ret</th>\n",
       "      <td>1.000000</td>\n",
       "      <td>0.006041</td>\n",
       "    </tr>\n",
       "    <tr>\n",
       "      <th>ratingCultureAndValues</th>\n",
       "      <td>0.006041</td>\n",
       "      <td>1.000000</td>\n",
       "    </tr>\n",
       "  </tbody>\n",
       "</table>\n",
       "</div>"
      ],
      "text/plain": [
       "                             ret  ratingCultureAndValues\n",
       "ret                     1.000000                0.006041\n",
       "ratingCultureAndValues  0.006041                1.000000"
      ]
     },
     "execution_count": 77,
     "metadata": {},
     "output_type": "execute_result"
    }
   ],
   "source": [
    "monthly_diversity[['ret','ratingCultureAndValues']].corr()"
   ]
  },
  {
   "cell_type": "code",
   "execution_count": 78,
   "metadata": {},
   "outputs": [
    {
     "data": {
      "text/html": [
       "<div>\n",
       "<style scoped>\n",
       "    .dataframe tbody tr th:only-of-type {\n",
       "        vertical-align: middle;\n",
       "    }\n",
       "\n",
       "    .dataframe tbody tr th {\n",
       "        vertical-align: top;\n",
       "    }\n",
       "\n",
       "    .dataframe thead th {\n",
       "        text-align: right;\n",
       "    }\n",
       "</style>\n",
       "<table border=\"1\" class=\"dataframe\">\n",
       "  <thead>\n",
       "    <tr style=\"text-align: right;\">\n",
       "      <th></th>\n",
       "      <th>ticker</th>\n",
       "      <th>reviewdate</th>\n",
       "      <th>ratingCultureAndValues</th>\n",
       "      <th>mcap</th>\n",
       "      <th>ret</th>\n",
       "    </tr>\n",
       "  </thead>\n",
       "  <tbody>\n",
       "    <tr>\n",
       "      <th>0</th>\n",
       "      <td>A</td>\n",
       "      <td>2012-05-31</td>\n",
       "      <td>3.500000</td>\n",
       "      <td>1.413443e+10</td>\n",
       "      <td>-0.036037</td>\n",
       "    </tr>\n",
       "    <tr>\n",
       "      <th>1</th>\n",
       "      <td>A</td>\n",
       "      <td>2012-06-30</td>\n",
       "      <td>3.700000</td>\n",
       "      <td>1.363594e+10</td>\n",
       "      <td>-0.032466</td>\n",
       "    </tr>\n",
       "    <tr>\n",
       "      <th>2</th>\n",
       "      <td>A</td>\n",
       "      <td>2012-07-31</td>\n",
       "      <td>4.357143</td>\n",
       "      <td>1.330581e+10</td>\n",
       "      <td>-0.024211</td>\n",
       "    </tr>\n",
       "    <tr>\n",
       "      <th>3</th>\n",
       "      <td>A</td>\n",
       "      <td>2012-08-31</td>\n",
       "      <td>4.857143</td>\n",
       "      <td>1.291314e+10</td>\n",
       "      <td>-0.029512</td>\n",
       "    </tr>\n",
       "    <tr>\n",
       "      <th>4</th>\n",
       "      <td>A</td>\n",
       "      <td>2012-09-30</td>\n",
       "      <td>3.454545</td>\n",
       "      <td>1.339763e+10</td>\n",
       "      <td>0.037405</td>\n",
       "    </tr>\n",
       "    <tr>\n",
       "      <th>...</th>\n",
       "      <td>...</td>\n",
       "      <td>...</td>\n",
       "      <td>...</td>\n",
       "      <td>...</td>\n",
       "      <td>...</td>\n",
       "    </tr>\n",
       "    <tr>\n",
       "      <th>144052</th>\n",
       "      <td>ZYXI</td>\n",
       "      <td>2022-08-31</td>\n",
       "      <td>4.588235</td>\n",
       "      <td>3.433586e+08</td>\n",
       "      <td>0.041958</td>\n",
       "    </tr>\n",
       "    <tr>\n",
       "      <th>144053</th>\n",
       "      <td>ZYXI</td>\n",
       "      <td>2022-09-30</td>\n",
       "      <td>4.818182</td>\n",
       "      <td>3.398257e+08</td>\n",
       "      <td>0.014541</td>\n",
       "    </tr>\n",
       "    <tr>\n",
       "      <th>144054</th>\n",
       "      <td>ZYXI</td>\n",
       "      <td>2022-10-31</td>\n",
       "      <td>4.400000</td>\n",
       "      <td>4.269642e+08</td>\n",
       "      <td>0.256893</td>\n",
       "    </tr>\n",
       "    <tr>\n",
       "      <th>144055</th>\n",
       "      <td>ZYXI</td>\n",
       "      <td>2022-11-30</td>\n",
       "      <td>4.959184</td>\n",
       "      <td>5.138552e+08</td>\n",
       "      <td>0.203510</td>\n",
       "    </tr>\n",
       "    <tr>\n",
       "      <th>144056</th>\n",
       "      <td>ZYXI</td>\n",
       "      <td>2022-12-31</td>\n",
       "      <td>4.892857</td>\n",
       "      <td>5.209712e+08</td>\n",
       "      <td>0.013849</td>\n",
       "    </tr>\n",
       "  </tbody>\n",
       "</table>\n",
       "<p>144057 rows × 5 columns</p>\n",
       "</div>"
      ],
      "text/plain": [
       "       ticker  reviewdate  ratingCultureAndValues          mcap       ret\n",
       "0           A  2012-05-31                3.500000  1.413443e+10 -0.036037\n",
       "1           A  2012-06-30                3.700000  1.363594e+10 -0.032466\n",
       "2           A  2012-07-31                4.357143  1.330581e+10 -0.024211\n",
       "3           A  2012-08-31                4.857143  1.291314e+10 -0.029512\n",
       "4           A  2012-09-30                3.454545  1.339763e+10  0.037405\n",
       "...       ...         ...                     ...           ...       ...\n",
       "144052   ZYXI  2022-08-31                4.588235  3.433586e+08  0.041958\n",
       "144053   ZYXI  2022-09-30                4.818182  3.398257e+08  0.014541\n",
       "144054   ZYXI  2022-10-31                4.400000  4.269642e+08  0.256893\n",
       "144055   ZYXI  2022-11-30                4.959184  5.138552e+08  0.203510\n",
       "144056   ZYXI  2022-12-31                4.892857  5.209712e+08  0.013849\n",
       "\n",
       "[144057 rows x 5 columns]"
      ]
     },
     "execution_count": 78,
     "metadata": {},
     "output_type": "execute_result"
    }
   ],
   "source": [
    "monthly_diversity"
   ]
  },
  {
   "cell_type": "markdown",
   "metadata": {},
   "source": [
    "### Correlation on different rolling periods"
   ]
  },
  {
   "cell_type": "code",
   "execution_count": 44,
   "metadata": {},
   "outputs": [],
   "source": [
    "rolling_df = pd.read_csv('/home/group3/group3/Finalized/data/rolling_period_ratings_stats.csv')\n",
    "rolling_df['reviewDateTime'] = pd.to_datetime(rolling_df['reviewDateTime'])"
   ]
  },
  {
   "cell_type": "code",
   "execution_count": 45,
   "metadata": {},
   "outputs": [],
   "source": [
    "rolling_ret_rating = pd.merge(rolling_df,rolling_ret, left_on=['ticker','reviewDateTime'], right_on=['ticker','date'])"
   ]
  },
  {
   "cell_type": "code",
   "execution_count": 25,
   "metadata": {},
   "outputs": [],
   "source": [
    "ratings_cols = glassd_classification.filter(like='rating').columns\n",
    "numeric_ratings_col = ratings_cols.values[:-3]\n",
    "rolling_periods = [1,3,6,9,12]\n",
    "def get_return_correlation(x):\n",
    "    stat_df = pd.DataFrame()\n",
    "    for i in rolling_periods:\n",
    "        for col in numeric_ratings_col:\n",
    "            stat_df[f'{i}_{col}_retcorr'] = [x[f'{i}_{col}_mean'].corr(x['ret'])]\n",
    "    return stat_df"
   ]
  },
  {
   "cell_type": "code",
   "execution_count": null,
   "metadata": {},
   "outputs": [],
   "source": [
    "ret_corr_df = rolling_ret_rating.groupby('ticker').apply(lambda x: get_return_correlation(x))"
   ]
  },
  {
   "cell_type": "code",
   "execution_count": null,
   "metadata": {},
   "outputs": [],
   "source": [
    "ret_corr_df_2023 = rolling_ret_rating[(rolling_ret_rating['reviewDateTime']>'2020-01-01') & (rolling_ret_rating['reviewDateTime']<'2023-12-30')].groupby('ticker').apply(lambda x: get_return_correlation(x))"
   ]
  },
  {
   "cell_type": "code",
   "execution_count": 14,
   "metadata": {},
   "outputs": [],
   "source": [
    "ret_corr_df = ret_corr_df.reset_index()\n",
    "ret_corr_df.drop('level_1',axis=1,inplace=True)\n",
    "\n",
    "ret_corr_df_2023 = ret_corr_df_2023.reset_index()\n",
    "ret_corr_df_2023.drop('level_1',axis=1,inplace=True)"
   ]
  },
  {
   "cell_type": "code",
   "execution_count": 15,
   "metadata": {},
   "outputs": [],
   "source": [
    "ret_corr_df = ret_corr_df[ret_corr_df['ticker'].isin(stock_monthly['ticker'].unique())]\n",
    "ret_corr_df_2023 = ret_corr_df_2023[ret_corr_df_2023['ticker'].isin(stock_monthly['ticker'].unique())]"
   ]
  },
  {
   "cell_type": "code",
   "execution_count": 26,
   "metadata": {},
   "outputs": [],
   "source": [
    "ret_corr_month_g1 = ret_corr_df_2023[ret_corr_df_2023['ticker'].isin(month_g1.index)]\n",
    "ret_corr_month_g10 = ret_corr_df_2023[ret_corr_df_2023['ticker'].isin(month_g10.index)]\n",
    "ret_corr_quarter_g1 = ret_corr_df_2023[ret_corr_df_2023['ticker'].isin(quarter_g1.index)]\n",
    "ret_corr_quarter_g10 = ret_corr_df_2023[ret_corr_df_2023['ticker'].isin(quarter_g10.index)]\n",
    "ret_corr_quarter_g100 = ret_corr_df_2023[ret_corr_df_2023['ticker'].isin(quarter_g100.index)]\n",
    "\n",
    "ret_corr_quarter_g100.set_index(ret_corr_quarter_g100['ticker'],inplace=True,drop=True)\n",
    "# ret_corr_quarter_g100.drop('index',axis=1,inplace=True)"
   ]
  },
  {
   "cell_type": "code",
   "execution_count": 37,
   "metadata": {},
   "outputs": [
    {
     "data": {
      "text/plain": [
       "([<matplotlib.axis.XTick at 0x7f3dc09cd9c0>,\n",
       "  <matplotlib.axis.XTick at 0x7f3dc09cc910>],\n",
       " [Text(0, 0, '12_ratingCareerOpportunities_retcorr'),\n",
       "  Text(34, 0, '1_ratingOverall_retcorr')])"
      ]
     },
     "execution_count": 37,
     "metadata": {},
     "output_type": "execute_result"
    },
    {
     "data": {
      "image/png": "[encoded data removed]",
      "text/plain": [
       "<Figure size 640x480 with 1 Axes>"
      ]
     },
     "metadata": {},
     "output_type": "display_data"
    }
   ],
   "source": [
    "cor_g1_2023 = ret_corr_month_g1.drop('ticker',axis=1).mean().sort_values()\n",
    "plt.bar(x=cor_g1_2023.index, height=cor_g1_2023.values)\n",
    "plt.title('Correlation between return and ratings (stocks with at least 1 review per month)')\n",
    "plt.xlabel('ratings')\n",
    "plt.ylabel('correlation')\n",
    "plt.xticks([0, len(cor_g1_2023)-1], [cor_g1_2023.index[0], cor_g1_2023.index[-1]])"
   ]
  },
  {
   "cell_type": "code",
   "execution_count": 38,
   "metadata": {},
   "outputs": [
    {
     "data": {
      "text/plain": [
       "([<matplotlib.axis.XTick at 0x7f4096a078b0>,\n",
       "  <matplotlib.axis.XTick at 0x7f4096a07880>],\n",
       " [Text(0, 0, '3_ratingDiversityAndInclusion_retcorr'),\n",
       "  Text(34, 0, '1_ratingOverall_retcorr')])"
      ]
     },
     "execution_count": 38,
     "metadata": {},
     "output_type": "execute_result"
    },
    {
     "data": {
      "image/png": "[encoded data removed]",
      "text/plain": [
       "<Figure size 640x480 with 1 Axes>"
      ]
     },
     "metadata": {},
     "output_type": "display_data"
    }
   ],
   "source": [
    "cor_g100_2023 = ret_corr_quarter_g100.drop('ticker',axis=1).mean().sort_values()\n",
    "plt.bar(x=cor_g100_2023.index, height=cor_g100_2023.values)\n",
    "plt.title('Correlation between return and ratings (stocks with at least 100 review per quarter)')\n",
    "plt.xlabel('ratings')\n",
    "plt.ylabel('correlation')\n",
    "plt.xticks([0, len(cor_g100_2023)-1], [cor_g100_2023.index[0], cor_g100_2023.index[-1]])"
   ]
  },
  {
   "cell_type": "markdown",
   "metadata": {},
   "source": [
    "### Analyze which forward looking period is the best"
   ]
  },
  {
   "cell_type": "code",
   "execution_count": 70,
   "metadata": {},
   "outputs": [],
   "source": [
    "ratings_cols = glassd_classification.filter(like='rating').columns\n",
    "numeric_ratings_col = ratings_cols.values[:-3]\n",
    "rolling_periods = [1,3,6,9,12,18,24]\n",
    "def get_return_correlation_forwardret(x):\n",
    "    stat_df = pd.DataFrame()\n",
    "    for i in rolling_periods:\n",
    "        # for col in numeric_ratings_col:\n",
    "        stat_df[f'{i}M_ret'] = [x[f'12_ratingOverall_mean'].corr(x[f'{i}M_ret'])]\n",
    "    return stat_df"
   ]
  },
  {
   "cell_type": "code",
   "execution_count": null,
   "metadata": {},
   "outputs": [],
   "source": [
    "ret_corr_forwardret_df_2023 = rolling_ret_rating[(rolling_ret_rating['reviewDateTime']>'2020-01-01') & (rolling_ret_rating['reviewDateTime']<'2023-12-30')].groupby('ticker').apply(lambda x: get_return_correlation_forwardret(x))"
   ]
  },
  {
   "cell_type": "code",
   "execution_count": 72,
   "metadata": {},
   "outputs": [],
   "source": [
    "ret_corr_forwardret_df_2023 = ret_corr_forwardret_df_2023.reset_index()\n",
    "ret_corr_forwardret_df_2023.drop('level_1',axis=1,inplace=True)\n",
    "ret_corr_forwardret_df_2023 = ret_corr_forwardret_df_2023[ret_corr_forwardret_df_2023['ticker'].isin(stock_monthly['ticker'].unique())]"
   ]
  },
  {
   "cell_type": "code",
   "execution_count": 73,
   "metadata": {},
   "outputs": [],
   "source": [
    "ret_corr_month_g1_forwardret = ret_corr_forwardret_df_2023[ret_corr_forwardret_df_2023['ticker'].isin(month_g1.index)]\n",
    "ret_corr_month_g10_forwardret = ret_corr_forwardret_df_2023[ret_corr_forwardret_df_2023['ticker'].isin(month_g10.index)]\n",
    "ret_corr_quarter_g1_forwardret = ret_corr_forwardret_df_2023[ret_corr_forwardret_df_2023['ticker'].isin(quarter_g1.index)]\n",
    "ret_corr_quarter_g10_forwardret = ret_corr_forwardret_df_2023[ret_corr_forwardret_df_2023['ticker'].isin(quarter_g10.index)]\n",
    "ret_corr_quarter_g100_forwardret = ret_corr_forwardret_df_2023[ret_corr_forwardret_df_2023['ticker'].isin(quarter_g100.index)]\n",
    "\n",
    "ret_corr_quarter_g100_forwardret.set_index(ret_corr_quarter_g100_forwardret['ticker'],inplace=True,drop=True)\n",
    "# ret_corr_quarter_g100.drop('index',axis=1,inplace=True)"
   ]
  },
  {
   "cell_type": "code",
   "execution_count": 75,
   "metadata": {},
   "outputs": [
    {
     "data": {
      "text/plain": [
       "([<matplotlib.axis.XTick at 0x7f3dc099a140>,\n",
       "  <matplotlib.axis.XTick at 0x7f3dc0999360>],\n",
       " [Text(0, 0, '18M_ret'), Text(6, 0, '1M_ret')])"
      ]
     },
     "execution_count": 75,
     "metadata": {},
     "output_type": "execute_result"
    },
    {
     "data": {
      "image/png": "[encoded data removed]",
      "text/plain": [
       "<Figure size 640x480 with 1 Axes>"
      ]
     },
     "metadata": {},
     "output_type": "display_data"
    }
   ],
   "source": [
    "cor_g100_2023_forwardret = ret_corr_quarter_g100_forwardret.drop('ticker',axis=1).mean().sort_values()\n",
    "plt.bar(x=cor_g100_2023_forwardret.index, height=cor_g100_2023_forwardret.values)\n",
    "plt.title('Correlation between i_month_return and yearly average ratings ')\n",
    "plt.xlabel('forward looking period')\n",
    "plt.ylabel('correlation')\n",
    "plt.xticks([0, len(cor_g100_2023_forwardret)-1], [cor_g100_2023_forwardret.index[0], cor_g100_2023_forwardret.index[-1]])"
   ]
  },
  {
   "cell_type": "markdown",
   "metadata": {},
   "source": [
    "# Grouping portfolio by rating"
   ]
  },
  {
   "cell_type": "code",
   "execution_count": 15,
   "metadata": {},
   "outputs": [],
   "source": [
    "rolling_ret_rating = pd.merge(rolling_ret_rating, company[['ticker','industryName']], on='ticker')"
   ]
  },
  {
   "cell_type": "code",
   "execution_count": 19,
   "metadata": {},
   "outputs": [],
   "source": [
    "rolling_ret_rating_20 = rolling_ret_rating[rolling_ret_rating['reviewDateTime']>'2020-01-01']"
   ]
  },
  {
   "cell_type": "code",
   "execution_count": 23,
   "metadata": {},
   "outputs": [
    {
     "name": "stderr",
     "output_type": "stream",
     "text": [
      "/tmp/ipykernel_3068277/3376523446.py:1: DeprecationWarning: DataFrameGroupBy.apply operated on the grouping columns. This behavior is deprecated, and in a future version of pandas the grouping columns will be excluded from the operation. Either pass `include_groups=False` to exclude the groupings or explicitly select the grouping columns after groupby to silence this warning.\n",
      "  overall_group = rolling_ret_rating_20[['ticker','reviewDateTime','1_ratingOverall_mean']].groupby('reviewDateTime').apply(lambda x: pd.qcut(x['1_ratingOverall_mean'], q=5, labels=['1','2','3','4','5']))\n"
     ]
    }
   ],
   "source": [
    "overall_group = rolling_ret_rating_20[['ticker','reviewDateTime','1_ratingOverall_mean']].groupby('reviewDateTime').apply(lambda x: pd.qcut(x['1_ratingOverall_mean'], q=5, labels=['1','2','3','4','5']))"
   ]
  },
  {
   "cell_type": "code",
   "execution_count": 30,
   "metadata": {},
   "outputs": [],
   "source": [
    "overall_group = overall_group.reset_index()"
   ]
  },
  {
   "cell_type": "code",
   "execution_count": 26,
   "metadata": {},
   "outputs": [
    {
     "name": "stderr",
     "output_type": "stream",
     "text": [
      "/tmp/ipykernel_3068277/4108337353.py:1: SettingWithCopyWarning: \n",
      "A value is trying to be set on a copy of a slice from a DataFrame.\n",
      "Try using .loc[row_indexer,col_indexer] = value instead\n",
      "\n",
      "See the caveats in the documentation: https://pandas.pydata.org/pandas-docs/stable/user_guide/indexing.html#returning-a-view-versus-a-copy\n",
      "  rolling_ret_rating_20['index_'] = rolling_ret_rating_20.index\n"
     ]
    }
   ],
   "source": [
    "rolling_ret_rating_20['index_'] = rolling_ret_rating_20.index"
   ]
  },
  {
   "cell_type": "code",
   "execution_count": 31,
   "metadata": {},
   "outputs": [],
   "source": [
    "rolling_ret_rating_20_grouping = pd.merge(rolling_ret_rating_20, overall_group[['level_1','1_ratingOverall_mean']], left_on='index_', right_on='level_1')"
   ]
  },
  {
   "cell_type": "code",
   "execution_count": 41,
   "metadata": {},
   "outputs": [],
   "source": [
    "ret_cols = list(rolling_ret_rating_20_grouping.filter(like='_ret').columns)"
   ]
  },
  {
   "cell_type": "code",
   "execution_count": 42,
   "metadata": {},
   "outputs": [
    {
     "name": "stderr",
     "output_type": "stream",
     "text": [
      "/tmp/ipykernel_3068277/23535793.py:1: FutureWarning: The default of observed=False is deprecated and will be changed to True in a future version of pandas. Pass observed=False to retain current behavior or observed=True to adopt the future default and silence this warning.\n",
      "  rolling_ret_rating_20_grouping[['1_ratingOverall_mean_y']+ret_cols].groupby('1_ratingOverall_mean_y').mean()\n"
     ]
    },
    {
     "data": {
      "text/html": [
       "<div>\n",
       "<style scoped>\n",
       "    .dataframe tbody tr th:only-of-type {\n",
       "        vertical-align: middle;\n",
       "    }\n",
       "\n",
       "    .dataframe tbody tr th {\n",
       "        vertical-align: top;\n",
       "    }\n",
       "\n",
       "    .dataframe thead th {\n",
       "        text-align: right;\n",
       "    }\n",
       "</style>\n",
       "<table border=\"1\" class=\"dataframe\">\n",
       "  <thead>\n",
       "    <tr style=\"text-align: right;\">\n",
       "      <th></th>\n",
       "      <th>1M_ret</th>\n",
       "      <th>3M_ret</th>\n",
       "      <th>6M_ret</th>\n",
       "      <th>9M_ret</th>\n",
       "      <th>12M_ret</th>\n",
       "      <th>18M_ret</th>\n",
       "      <th>24M_ret</th>\n",
       "    </tr>\n",
       "    <tr>\n",
       "      <th>1_ratingOverall_mean_y</th>\n",
       "      <th></th>\n",
       "      <th></th>\n",
       "      <th></th>\n",
       "      <th></th>\n",
       "      <th></th>\n",
       "      <th></th>\n",
       "      <th></th>\n",
       "    </tr>\n",
       "  </thead>\n",
       "  <tbody>\n",
       "    <tr>\n",
       "      <th>1</th>\n",
       "      <td>1.011267</td>\n",
       "      <td>1.054775</td>\n",
       "      <td>1.123586</td>\n",
       "      <td>1.195535</td>\n",
       "      <td>1.271243</td>\n",
       "      <td>1.397265</td>\n",
       "      <td>1.529437</td>\n",
       "    </tr>\n",
       "    <tr>\n",
       "      <th>2</th>\n",
       "      <td>1.007967</td>\n",
       "      <td>1.040942</td>\n",
       "      <td>1.096649</td>\n",
       "      <td>1.167649</td>\n",
       "      <td>1.257323</td>\n",
       "      <td>1.368101</td>\n",
       "      <td>1.470516</td>\n",
       "    </tr>\n",
       "    <tr>\n",
       "      <th>3</th>\n",
       "      <td>1.013998</td>\n",
       "      <td>1.055929</td>\n",
       "      <td>1.116266</td>\n",
       "      <td>1.193628</td>\n",
       "      <td>1.284355</td>\n",
       "      <td>1.371845</td>\n",
       "      <td>1.461468</td>\n",
       "    </tr>\n",
       "    <tr>\n",
       "      <th>4</th>\n",
       "      <td>1.007652</td>\n",
       "      <td>1.037445</td>\n",
       "      <td>1.087526</td>\n",
       "      <td>1.141383</td>\n",
       "      <td>1.216296</td>\n",
       "      <td>1.326843</td>\n",
       "      <td>1.431757</td>\n",
       "    </tr>\n",
       "    <tr>\n",
       "      <th>5</th>\n",
       "      <td>1.007082</td>\n",
       "      <td>1.034486</td>\n",
       "      <td>1.074852</td>\n",
       "      <td>1.124880</td>\n",
       "      <td>1.183615</td>\n",
       "      <td>1.264397</td>\n",
       "      <td>1.344483</td>\n",
       "    </tr>\n",
       "  </tbody>\n",
       "</table>\n",
       "</div>"
      ],
      "text/plain": [
       "                          1M_ret    3M_ret    6M_ret    9M_ret   12M_ret  \\\n",
       "1_ratingOverall_mean_y                                                     \n",
       "1                       1.011267  1.054775  1.123586  1.195535  1.271243   \n",
       "2                       1.007967  1.040942  1.096649  1.167649  1.257323   \n",
       "3                       1.013998  1.055929  1.116266  1.193628  1.284355   \n",
       "4                       1.007652  1.037445  1.087526  1.141383  1.216296   \n",
       "5                       1.007082  1.034486  1.074852  1.124880  1.183615   \n",
       "\n",
       "                         18M_ret   24M_ret  \n",
       "1_ratingOverall_mean_y                      \n",
       "1                       1.397265  1.529437  \n",
       "2                       1.368101  1.470516  \n",
       "3                       1.371845  1.461468  \n",
       "4                       1.326843  1.431757  \n",
       "5                       1.264397  1.344483  "
      ]
     },
     "execution_count": 42,
     "metadata": {},
     "output_type": "execute_result"
    }
   ],
   "source": [
    "rolling_ret_rating_20_grouping[['1_ratingOverall_mean_y']+ret_cols].groupby('1_ratingOverall_mean_y').mean()"
   ]
  },
  {
   "cell_type": "code",
   "execution_count": 44,
   "metadata": {},
   "outputs": [
    {
     "name": "stderr",
     "output_type": "stream",
     "text": [
      "/tmp/ipykernel_3068277/3701069056.py:1: FutureWarning: The default of observed=False is deprecated and will be changed to True in a future version of pandas. Pass observed=False to retain current behavior or observed=True to adopt the future default and silence this warning.\n",
      "  rolling_ret_rating_20_grouping[rolling_ret_rating_20_grouping['ticker'].isin(quarter_g100.index)][['1_ratingOverall_mean_y']+ret_cols].groupby('1_ratingOverall_mean_y').mean()\n"
     ]
    },
    {
     "data": {
      "text/html": [
       "<div>\n",
       "<style scoped>\n",
       "    .dataframe tbody tr th:only-of-type {\n",
       "        vertical-align: middle;\n",
       "    }\n",
       "\n",
       "    .dataframe tbody tr th {\n",
       "        vertical-align: top;\n",
       "    }\n",
       "\n",
       "    .dataframe thead th {\n",
       "        text-align: right;\n",
       "    }\n",
       "</style>\n",
       "<table border=\"1\" class=\"dataframe\">\n",
       "  <thead>\n",
       "    <tr style=\"text-align: right;\">\n",
       "      <th></th>\n",
       "      <th>1M_ret</th>\n",
       "      <th>3M_ret</th>\n",
       "      <th>6M_ret</th>\n",
       "      <th>9M_ret</th>\n",
       "      <th>12M_ret</th>\n",
       "      <th>18M_ret</th>\n",
       "      <th>24M_ret</th>\n",
       "    </tr>\n",
       "    <tr>\n",
       "      <th>1_ratingOverall_mean_y</th>\n",
       "      <th></th>\n",
       "      <th></th>\n",
       "      <th></th>\n",
       "      <th></th>\n",
       "      <th></th>\n",
       "      <th></th>\n",
       "      <th></th>\n",
       "    </tr>\n",
       "  </thead>\n",
       "  <tbody>\n",
       "    <tr>\n",
       "      <th>1</th>\n",
       "      <td>1.115847</td>\n",
       "      <td>1.354909</td>\n",
       "      <td>2.173569</td>\n",
       "      <td>2.631916</td>\n",
       "      <td>3.187620</td>\n",
       "      <td>4.110664</td>\n",
       "      <td>5.151783</td>\n",
       "    </tr>\n",
       "    <tr>\n",
       "      <th>2</th>\n",
       "      <td>1.007247</td>\n",
       "      <td>1.013300</td>\n",
       "      <td>1.044906</td>\n",
       "      <td>1.162612</td>\n",
       "      <td>1.342061</td>\n",
       "      <td>1.431866</td>\n",
       "      <td>1.675628</td>\n",
       "    </tr>\n",
       "    <tr>\n",
       "      <th>3</th>\n",
       "      <td>1.007982</td>\n",
       "      <td>1.065105</td>\n",
       "      <td>1.131782</td>\n",
       "      <td>1.213589</td>\n",
       "      <td>1.340957</td>\n",
       "      <td>1.380151</td>\n",
       "      <td>1.354231</td>\n",
       "    </tr>\n",
       "    <tr>\n",
       "      <th>4</th>\n",
       "      <td>1.013109</td>\n",
       "      <td>1.048881</td>\n",
       "      <td>1.101975</td>\n",
       "      <td>1.174636</td>\n",
       "      <td>1.239834</td>\n",
       "      <td>1.335311</td>\n",
       "      <td>1.355127</td>\n",
       "    </tr>\n",
       "    <tr>\n",
       "      <th>5</th>\n",
       "      <td>1.005658</td>\n",
       "      <td>1.027522</td>\n",
       "      <td>1.077137</td>\n",
       "      <td>1.123395</td>\n",
       "      <td>1.177661</td>\n",
       "      <td>1.296651</td>\n",
       "      <td>1.317204</td>\n",
       "    </tr>\n",
       "  </tbody>\n",
       "</table>\n",
       "</div>"
      ],
      "text/plain": [
       "                          1M_ret    3M_ret    6M_ret    9M_ret   12M_ret  \\\n",
       "1_ratingOverall_mean_y                                                     \n",
       "1                       1.115847  1.354909  2.173569  2.631916  3.187620   \n",
       "2                       1.007247  1.013300  1.044906  1.162612  1.342061   \n",
       "3                       1.007982  1.065105  1.131782  1.213589  1.340957   \n",
       "4                       1.013109  1.048881  1.101975  1.174636  1.239834   \n",
       "5                       1.005658  1.027522  1.077137  1.123395  1.177661   \n",
       "\n",
       "                         18M_ret   24M_ret  \n",
       "1_ratingOverall_mean_y                      \n",
       "1                       4.110664  5.151783  \n",
       "2                       1.431866  1.675628  \n",
       "3                       1.380151  1.354231  \n",
       "4                       1.335311  1.355127  \n",
       "5                       1.296651  1.317204  "
      ]
     },
     "execution_count": 44,
     "metadata": {},
     "output_type": "execute_result"
    }
   ],
   "source": [
    "rolling_ret_rating_20_grouping[rolling_ret_rating_20_grouping['ticker'].isin(quarter_g100.index)][['1_ratingOverall_mean_y']+ret_cols].groupby('1_ratingOverall_mean_y').mean()"
   ]
  },
  {
   "cell_type": "code",
   "execution_count": null,
   "metadata": {},
   "outputs": [],
   "source": [
    "rolling_ret_rating_20_grouping['']"
   ]
  },
  {
   "cell_type": "code",
   "execution_count": 50,
   "metadata": {},
   "outputs": [
    {
     "data": {
      "text/html": [
       "<div>\n",
       "<style scoped>\n",
       "    .dataframe tbody tr th:only-of-type {\n",
       "        vertical-align: middle;\n",
       "    }\n",
       "\n",
       "    .dataframe tbody tr th {\n",
       "        vertical-align: top;\n",
       "    }\n",
       "\n",
       "    .dataframe thead th {\n",
       "        text-align: right;\n",
       "    }\n",
       "</style>\n",
       "<table border=\"1\" class=\"dataframe\">\n",
       "  <thead>\n",
       "    <tr style=\"text-align: right;\">\n",
       "      <th></th>\n",
       "      <th>1_ratingOverall_mean_x</th>\n",
       "      <th>1_ratingOverall_mean_y</th>\n",
       "    </tr>\n",
       "  </thead>\n",
       "  <tbody>\n",
       "    <tr>\n",
       "      <th>0</th>\n",
       "      <td>4.428571</td>\n",
       "      <td>5</td>\n",
       "    </tr>\n",
       "    <tr>\n",
       "      <th>36</th>\n",
       "      <td>4.000000</td>\n",
       "      <td>4</td>\n",
       "    </tr>\n",
       "    <tr>\n",
       "      <th>72</th>\n",
       "      <td>3.947368</td>\n",
       "      <td>4</td>\n",
       "    </tr>\n",
       "    <tr>\n",
       "      <th>108</th>\n",
       "      <td>NaN</td>\n",
       "      <td>NaN</td>\n",
       "    </tr>\n",
       "    <tr>\n",
       "      <th>144</th>\n",
       "      <td>NaN</td>\n",
       "      <td>NaN</td>\n",
       "    </tr>\n",
       "    <tr>\n",
       "      <th>...</th>\n",
       "      <td>...</td>\n",
       "      <td>...</td>\n",
       "    </tr>\n",
       "    <tr>\n",
       "      <th>90846</th>\n",
       "      <td>4.666667</td>\n",
       "      <td>5</td>\n",
       "    </tr>\n",
       "    <tr>\n",
       "      <th>90911</th>\n",
       "      <td>4.375000</td>\n",
       "      <td>5</td>\n",
       "    </tr>\n",
       "    <tr>\n",
       "      <th>90947</th>\n",
       "      <td>4.333333</td>\n",
       "      <td>5</td>\n",
       "    </tr>\n",
       "    <tr>\n",
       "      <th>90983</th>\n",
       "      <td>4.142857</td>\n",
       "      <td>5</td>\n",
       "    </tr>\n",
       "    <tr>\n",
       "      <th>91019</th>\n",
       "      <td>4.166667</td>\n",
       "      <td>5</td>\n",
       "    </tr>\n",
       "  </tbody>\n",
       "</table>\n",
       "<p>2455 rows × 2 columns</p>\n",
       "</div>"
      ],
      "text/plain": [
       "       1_ratingOverall_mean_x 1_ratingOverall_mean_y\n",
       "0                    4.428571                      5\n",
       "36                   4.000000                      4\n",
       "72                   3.947368                      4\n",
       "108                       NaN                    NaN\n",
       "144                       NaN                    NaN\n",
       "...                       ...                    ...\n",
       "90846                4.666667                      5\n",
       "90911                4.375000                      5\n",
       "90947                4.333333                      5\n",
       "90983                4.142857                      5\n",
       "91019                4.166667                      5\n",
       "\n",
       "[2455 rows x 2 columns]"
      ]
     },
     "execution_count": 50,
     "metadata": {},
     "output_type": "execute_result"
    }
   ],
   "source": [
    "rolling_ret_rating_20_grouping[rolling_ret_rating_20_grouping['reviewDateTime']=='2020-01-31'][['1_ratingOverall_mean_x','1_ratingOverall_mean_y']]"
   ]
  },
  {
   "cell_type": "code",
   "execution_count": null,
   "metadata": {},
   "outputs": [],
   "source": []
  }
 ],
 "metadata": {
  "kernelspec": {
   "display_name": "Python 3 (ipykernel)",
   "language": "python",
   "name": "python3"
  },
  "language_info": {
   "codemirror_mode": {
    "name": "ipython",
    "version": 3
   },
   "file_extension": ".py",
   "mimetype": "text/x-python",
   "name": "python",
   "nbconvert_exporter": "python",
   "pygments_lexer": "ipython3",
   "version": "3.11.5"
  }
 },
 "nbformat": 4,
 "nbformat_minor": 4
}
